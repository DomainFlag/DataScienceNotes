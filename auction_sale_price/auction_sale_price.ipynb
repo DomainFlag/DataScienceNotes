{
 "cells": [
  {
   "cell_type": "markdown",
   "metadata": {},
   "source": [
    "## Auction Sale Price"
   ]
  },
  {
   "cell_type": "markdown",
   "metadata": {},
   "source": [
    "Based on fastai course https://github.com/fastai"
   ]
  },
  {
   "cell_type": "code",
   "execution_count": 1,
   "metadata": {},
   "outputs": [],
   "source": [
    "import sys\n",
    "\n",
    "sys.path.insert(0, \"..\")"
   ]
  },
  {
   "cell_type": "code",
   "execution_count": 2,
   "metadata": {},
   "outputs": [],
   "source": [
    "import pandas as pd\n",
    "import numpy as np\n",
    "import matplotlib.pyplot as plt\n",
    "import helper as hlp\n",
    "\n",
    "from sklearn.ensemble import RandomForestRegressor, RandomForestClassifier\n",
    "from scipy.cluster import hierarchy\n",
    "from scipy.stats import spearmanr\n",
    "from pandas.api.types import is_categorical_dtype"
   ]
  },
  {
   "cell_type": "code",
   "execution_count": 3,
   "metadata": {},
   "outputs": [],
   "source": [
    "data = pd.read_csv(\"./data/sales.csv\", low_memory = False, parse_dates = [\"saledate\"])"
   ]
  },
  {
   "cell_type": "code",
   "execution_count": 4,
   "metadata": {},
   "outputs": [],
   "source": [
    "# normalizing targets smoothing skewness\n",
    "data.SalePrice = np.log(data.SalePrice)"
   ]
  },
  {
   "cell_type": "code",
   "execution_count": 5,
   "metadata": {},
   "outputs": [],
   "source": [
    "# split date into relevant features\n",
    "hlp.split_date(data, \"saledate\")\n",
    "\n",
    "# convert non-numerical data to categorical\n",
    "hlp.trans_categorical(data)"
   ]
  },
  {
   "cell_type": "code",
   "execution_count": 9,
   "metadata": {},
   "outputs": [],
   "source": [
    "features, targets = hp.trans_numerical(data, \"SalePrice\")"
   ]
  },
  {
   "cell_type": "code",
   "execution_count": 56,
   "metadata": {},
   "outputs": [],
   "source": [
    "def pred_model(train, valid, n_estimators = 10, min_samples_leaf = 1, max_features = 'auto', oob_score = False):\n",
    "    ''' helper function to train and validate a model, train and valid are tuples of features and targets '''\n",
    "    \n",
    "    # create a random forest\n",
    "    model = RandomForestRegressor(n_estimators = n_estimators, min_samples_leaf = min_samples_leaf,\\\n",
    "                                  max_features = max_features, oob_score = oob_score)\n",
    "    \n",
    "    # fit the training features and targets\n",
    "    model.fit(train[0], train[1])\n",
    "    \n",
    "    return (model, model.score(valid[0], valid[1]))"
   ]
  },
  {
   "cell_type": "code",
   "execution_count": 57,
   "metadata": {},
   "outputs": [],
   "source": [
    "train = (features, targets)"
   ]
  },
  {
   "cell_type": "code",
   "execution_count": 236,
   "metadata": {},
   "outputs": [
    {
     "name": "stdout",
     "output_type": "stream",
     "text": [
      "Model is heavily overfitting with 0.9831354460660624 and won't do well on new data samples\n"
     ]
    }
   ],
   "source": [
    "model, score = pred_model(train, train)\n",
    "\n",
    "print(f\"Model is heavily overfitting with {score} and won't do well on new data samples\")"
   ]
  },
  {
   "cell_type": "code",
   "execution_count": 60,
   "metadata": {},
   "outputs": [],
   "source": [
    "train, valid = hlp.split_data(features, targets, threshold = 1 / 12)"
   ]
  },
  {
   "cell_type": "code",
   "execution_count": 61,
   "metadata": {},
   "outputs": [
    {
     "name": "stdout",
     "output_type": "stream",
     "text": [
      "Model is heavily overfitting on train set as it does 0.9059545571740466 on unseen before samples\n"
     ]
    }
   ],
   "source": [
    "model, score = pred_model(train, valid)\n",
    "\n",
    "print(f\"Model is heavily overfitting on train set as it does {score} on unseen before samples\")"
   ]
  },
  {
   "cell_type": "code",
   "execution_count": 62,
   "metadata": {},
   "outputs": [
    {
     "name": "stdout",
     "output_type": "stream",
     "text": [
      "Generalizes better with 0.9140914124075075 by early stopping, using smaller pool(features) and random subsets for training\n"
     ]
    }
   ],
   "source": [
    "model, score = pred_model(train, valid, n_estimators = 40, min_samples_leaf = 6, max_features = 0.6)\n",
    "\n",
    "print(f\"Generalizes better with {score} by early stopping, using smaller pool(features) and random subsets for training\")"
   ]
  },
  {
   "cell_type": "code",
   "execution_count": 63,
   "metadata": {},
   "outputs": [
    {
     "name": "stdout",
     "output_type": "stream",
     "text": [
      "10.508010992996663\n"
     ]
    }
   ],
   "source": [
    "print(model.predict(valid[0][:1])[0])"
   ]
  },
  {
   "cell_type": "code",
   "execution_count": 64,
   "metadata": {},
   "outputs": [
    {
     "name": "stdout",
     "output_type": "stream",
     "text": [
      "10.57, 10.3, 10.66, 10.35, 10.51, 10.65, 10.44, 10.57...\n",
      "Trees that sees a different subset of data with higher information gain when splitting will complement those that don't so well - 10.50801, with 0.16788 variance\n"
     ]
    }
   ],
   "source": [
    "# stacking each tree prediction with TxP => PxT\n",
    "tree_scores = np.stack([ t.predict(valid[0]) for t in model.estimators_ ]).transpose()\n",
    "\n",
    "# pool a smaller subset of results from a single prediction\n",
    "tree_scores_sub = [ str(round(t, 2)) for t in tree_scores[0][:8] ]\n",
    "\n",
    "score_mean = round(np.mean(tree_scores[0]), 5)\n",
    "score_std = round(np.std(tree_scores[0]), 5)\n",
    "\n",
    "print(\", \".join(tree_scores_sub) + \"...\")\n",
    "print(f\"Trees that sees a different subset of data with higher information gain when splitting will complement\\\n",
    " those that don't so well - {score_mean}, with {score_std} variance\")"
   ]
  },
  {
   "cell_type": "code",
   "execution_count": 65,
   "metadata": {},
   "outputs": [],
   "source": [
    "data_rt, data_rv = hlp.split_dataset(data, 12000)"
   ]
  },
  {
   "cell_type": "code",
   "execution_count": 66,
   "metadata": {},
   "outputs": [
    {
     "data": {
      "text/plain": [
       "<matplotlib.axes._subplots.AxesSubplot at 0x1eb842a1ac8>"
      ]
     },
     "execution_count": 66,
     "metadata": {},
     "output_type": "execute_result"
    },
    {
     "data": {
      "image/png": "[encoded data removed]",
      "text/plain": [
       "<Figure size 432x288 with 1 Axes>"
      ]
     },
     "metadata": {},
     "output_type": "display_data"
    }
   ],
   "source": [
    "x = data_rv.copy()\n",
    "\n",
    "x['Pred'] = np.mean(tree_scores, axis = 1)\n",
    "x['PredDeviation'] = np.std(tree_scores, axis = 1)\n",
    "\n",
    "x.Enclosure.value_counts().plot.barh()"
   ]
  },
  {
   "cell_type": "code",
   "execution_count": 67,
   "metadata": {},
   "outputs": [
    {
     "data": {
      "text/html": [
       "<div>\n",
       "<style scoped>\n",
       "    .dataframe tbody tr th:only-of-type {\n",
       "        vertical-align: middle;\n",
       "    }\n",
       "\n",
       "    .dataframe tbody tr th {\n",
       "        vertical-align: top;\n",
       "    }\n",
       "\n",
       "    .dataframe thead th {\n",
       "        text-align: right;\n",
       "    }\n",
       "</style>\n",
       "<table border=\"1\" class=\"dataframe\">\n",
       "  <thead>\n",
       "    <tr style=\"text-align: right;\">\n",
       "      <th></th>\n",
       "      <th>Enclosure</th>\n",
       "      <th>SalePrice</th>\n",
       "      <th>Pred</th>\n",
       "      <th>PredDeviation</th>\n",
       "    </tr>\n",
       "  </thead>\n",
       "  <tbody>\n",
       "    <tr>\n",
       "      <th>0</th>\n",
       "      <td>EROPS</td>\n",
       "      <td>9.964365</td>\n",
       "      <td>10.117741</td>\n",
       "      <td>0.151257</td>\n",
       "    </tr>\n",
       "    <tr>\n",
       "      <th>1</th>\n",
       "      <td>EROPS AC</td>\n",
       "      <td>NaN</td>\n",
       "      <td>NaN</td>\n",
       "      <td>NaN</td>\n",
       "    </tr>\n",
       "    <tr>\n",
       "      <th>2</th>\n",
       "      <td>EROPS w AC</td>\n",
       "      <td>10.726390</td>\n",
       "      <td>10.109870</td>\n",
       "      <td>0.151328</td>\n",
       "    </tr>\n",
       "    <tr>\n",
       "      <th>3</th>\n",
       "      <td>NO ROPS</td>\n",
       "      <td>NaN</td>\n",
       "      <td>NaN</td>\n",
       "      <td>NaN</td>\n",
       "    </tr>\n",
       "    <tr>\n",
       "      <th>4</th>\n",
       "      <td>None or Unspecified</td>\n",
       "      <td>NaN</td>\n",
       "      <td>NaN</td>\n",
       "      <td>NaN</td>\n",
       "    </tr>\n",
       "    <tr>\n",
       "      <th>5</th>\n",
       "      <td>OROPS</td>\n",
       "      <td>9.899330</td>\n",
       "      <td>10.107031</td>\n",
       "      <td>0.151995</td>\n",
       "    </tr>\n",
       "  </tbody>\n",
       "</table>\n",
       "</div>"
      ],
      "text/plain": [
       "             Enclosure  SalePrice       Pred  PredDeviation\n",
       "0                EROPS   9.964365  10.117741       0.151257\n",
       "1             EROPS AC        NaN        NaN            NaN\n",
       "2           EROPS w AC  10.726390  10.109870       0.151328\n",
       "3              NO ROPS        NaN        NaN            NaN\n",
       "4  None or Unspecified        NaN        NaN            NaN\n",
       "5                OROPS   9.899330  10.107031       0.151995"
      ]
     },
     "execution_count": 67,
     "metadata": {},
     "output_type": "execute_result"
    }
   ],
   "source": [
    "columns = [\"Enclosure\", \"SalePrice\", \"Pred\", \"PredDeviation\"]\n",
    "\n",
    "p = x[columns].groupby(\"Enclosure\", as_index = False).mean()\n",
    "\n",
    "p"
   ]
  },
  {
   "cell_type": "code",
   "execution_count": 68,
   "metadata": {},
   "outputs": [
    {
     "data": {
      "text/plain": [
       "<matplotlib.axes._subplots.AxesSubplot at 0x1eb843052b0>"
      ]
     },
     "execution_count": 68,
     "metadata": {},
     "output_type": "execute_result"
    },
    {
     "data": {
      "image/png": "[encoded data removed]",
      "text/plain": [
       "<Figure size 432x288 with 1 Axes>"
      ]
     },
     "metadata": {},
     "output_type": "display_data"
    }
   ],
   "source": [
    "p[~pd.isnull(p.SalePrice)].plot(\"Enclosure\", \"Pred\", \"barh\", xerr = \"PredDeviation\", xlim = (1, 12))"
   ]
  },
  {
   "cell_type": "markdown",
   "metadata": {},
   "source": [
    "### Feature importance"
   ]
  },
  {
   "cell_type": "code",
   "execution_count": 199,
   "metadata": {},
   "outputs": [],
   "source": [
    "def extract_feature_importances(model, columns, trim = -1, threshold = None):\n",
    "    ''' helper function to extract feature importances '''\n",
    "    \n",
    "    # create a feature importances data frame\n",
    "    feature_importances = pd.DataFrame({\"columns\" : columns, \"importance\" : model.feature_importances_})\n",
    "\n",
    "    # descending ordering and trim\n",
    "    feature_importances = feature_importances.sort_values(\"importance\", ascending = False)[:trim]\n",
    "    \n",
    "    # apply filtering on unnecessary features\n",
    "    if(threshold is not None):\n",
    "        feature_importances = feature_importances[feature_importances.importance > threshold]\n",
    "    \n",
    "    return feature_importances"
   ]
  },
  {
   "cell_type": "code",
   "execution_count": 70,
   "metadata": {},
   "outputs": [
    {
     "data": {
      "text/html": [
       "<div>\n",
       "<style scoped>\n",
       "    .dataframe tbody tr th:only-of-type {\n",
       "        vertical-align: middle;\n",
       "    }\n",
       "\n",
       "    .dataframe tbody tr th {\n",
       "        vertical-align: top;\n",
       "    }\n",
       "\n",
       "    .dataframe thead th {\n",
       "        text-align: right;\n",
       "    }\n",
       "</style>\n",
       "<table border=\"1\" class=\"dataframe\">\n",
       "  <thead>\n",
       "    <tr style=\"text-align: right;\">\n",
       "      <th></th>\n",
       "      <th>columns</th>\n",
       "      <th>importance</th>\n",
       "    </tr>\n",
       "  </thead>\n",
       "  <tbody>\n",
       "    <tr>\n",
       "      <th>5</th>\n",
       "      <td>YearMade</td>\n",
       "      <td>0.172716</td>\n",
       "    </tr>\n",
       "    <tr>\n",
       "      <th>37</th>\n",
       "      <td>Coupler_System</td>\n",
       "      <td>0.134295</td>\n",
       "    </tr>\n",
       "    <tr>\n",
       "      <th>13</th>\n",
       "      <td>ProductSize</td>\n",
       "      <td>0.105016</td>\n",
       "    </tr>\n",
       "    <tr>\n",
       "      <th>14</th>\n",
       "      <td>fiProductClassDesc</td>\n",
       "      <td>0.094541</td>\n",
       "    </tr>\n",
       "    <tr>\n",
       "      <th>2</th>\n",
       "      <td>ModelID</td>\n",
       "      <td>0.069353</td>\n",
       "    </tr>\n",
       "    <tr>\n",
       "      <th>54</th>\n",
       "      <td>sale_timestamp</td>\n",
       "      <td>0.058043</td>\n",
       "    </tr>\n",
       "  </tbody>\n",
       "</table>\n",
       "</div>"
      ],
      "text/plain": [
       "               columns  importance\n",
       "5             YearMade    0.172716\n",
       "37      Coupler_System    0.134295\n",
       "13         ProductSize    0.105016\n",
       "14  fiProductClassDesc    0.094541\n",
       "2              ModelID    0.069353\n",
       "54      sale_timestamp    0.058043"
      ]
     },
     "execution_count": 70,
     "metadata": {},
     "output_type": "execute_result"
    }
   ],
   "source": [
    "# extracting feature importances\n",
    "feature_importances = extract_feature_importances(model, train[0].columns, threshold = 0.002)\n",
    "\n",
    "feature_importances.head(n = 6)"
   ]
  },
  {
   "cell_type": "code",
   "execution_count": 71,
   "metadata": {},
   "outputs": [],
   "source": [
    "def print_feature_importances(features, figsize = (10, 7), title = \"Feature importances\"):\n",
    "    ''' helper function to print feature importances with bar plot '''\n",
    "    \n",
    "    # figure size\n",
    "    plt.figure(figsize = figsize)\n",
    "    \n",
    "    # figure title\n",
    "    plt.title(title)\n",
    "    \n",
    "    # supplying bars' width\n",
    "    plt.barh(range(len(features)), features[\"importance\"], color = \"c\", align = \"center\")\n",
    "    \n",
    "    # setting up y axis labels\n",
    "    plt.yticks(range(len(features)), features[\"columns\"])\n",
    "    \n",
    "    # setting up limits for y axis\n",
    "    plt.ylim([-1, len(features)])\n",
    "    \n",
    "    plt.show()"
   ]
  },
  {
   "cell_type": "code",
   "execution_count": 72,
   "metadata": {},
   "outputs": [
    {
     "data": {
      "image/png": "[encoded data removed]",
      "text/plain": [
       "<Figure size 720x504 with 1 Axes>"
      ]
     },
     "metadata": {},
     "output_type": "display_data"
    }
   ],
   "source": [
    "print_feature_importances(feature_importances)"
   ]
  },
  {
   "cell_type": "code",
   "execution_count": 343,
   "metadata": {},
   "outputs": [],
   "source": [
    "def model_validate(features, targets, threshold = 1 / 12, columns = None, n_estimators = 40, min_samples_leaf = 6):\n",
    "    ''' simple helper function to make model validation faster '''\n",
    "    \n",
    "    # standard parameters \n",
    "    max_features = 0.6\n",
    "\n",
    "    # extracting train and validation set with filtered columns based on importance \n",
    "    train, valid = hlp.split_data(features, targets, threshold = threshold, columns = columns)\n",
    "\n",
    "    # re-run model training\n",
    "    model, score = pred_model(train, valid, n_estimators = n_estimators,\\\n",
    "                                    min_samples_leaf = min_samples_leaf, max_features = max_features, oob_score = True)\n",
    "    \n",
    "    return model, score"
   ]
  },
  {
   "cell_type": "code",
   "execution_count": 134,
   "metadata": {},
   "outputs": [
    {
     "name": "stdout",
     "output_type": "stream",
     "text": [
      "Less redunant data result in less chance to get snagged into a split that would become less significant as more splits will become redundant - 0.916044\n"
     ]
    }
   ],
   "source": [
    "# re-run model training\n",
    "mode, score = model_validate(features, targets, threshold = 1 / 12, columns = feature_importances[\"columns\"])\n",
    "\n",
    "print(f\"Less redunant data result in less chance to get snagged into a split that would become less\\\n",
    " significant as more splits will become redundant - {round(score, 6)}\")"
   ]
  },
  {
   "cell_type": "markdown",
   "metadata": {},
   "source": [
    "### Removing redundant features"
   ]
  },
  {
   "cell_type": "code",
   "execution_count": 135,
   "metadata": {},
   "outputs": [],
   "source": [
    "def generate_feature_dependencies(features, columns = None):\n",
    "    ''' helper function to extract feature dependencies by clustering '''\n",
    "\n",
    "    # make copy\n",
    "    features_filtered = features.copy()\n",
    "    \n",
    "    # filter columns\n",
    "    if(columns is not None):\n",
    "        features_filtered = features_filtered[columns]\n",
    "\n",
    "    # calculate correlations between different columns\n",
    "    correlation = spearmanr(features_filtered).correlation\n",
    "\n",
    "    # compute clusters based on average distance\n",
    "    clusters = hierarchy.linkage(correlation, method = 'average')\n",
    "\n",
    "    # explicitly set bigger size\n",
    "    fig = plt.figure(figsize = (28, 14))\n",
    "    \n",
    "    # generate a dendrogram\n",
    "    hierarchy.dendrogram(clusters, labels = features_filtered.columns, orientation = 'right', leaf_font_size = 18)\n",
    "\n",
    "    # show plot\n",
    "    plt.show()\n",
    "    \n",
    "    return (clusters, features_filtered)\n",
    "\n",
    "def validate_dependency(columns):\n",
    "    ''' helper function returning a fn that computes score of dataset minus one feature '''\n",
    "    \n",
    "    def validator(column_index):\n",
    "\n",
    "        # new columns filtered\n",
    "        columns_filtered = columns[:column_index] + columns[column_index + 1:]\n",
    "\n",
    "        # extracting train and validation set with filtered columns based on importance \n",
    "        train, valid = hlp.split_data(features, targets, threshold = 1 / 12, columns = columns_filtered)\n",
    "\n",
    "        # re-run model training\n",
    "        model, score = pred_model(train, valid, n_estimators = 10, min_samples_leaf = 15,\\\n",
    "                                  max_features = 0.5)\n",
    "\n",
    "        return score\n",
    "    \n",
    "    return validator\n",
    "\n",
    "def extract_cluster_partition(clusters, index, part):\n",
    "    # feature partition index\n",
    "    feature_part_index = int(clusters[index][part])\n",
    "       \n",
    "    # features partition node\n",
    "    if(feature_part_index < len(clusters) + 1):\n",
    "        return [ feature_part_index ]\n",
    "    else:\n",
    "        return extract_cluster_entities(clusters, feature_part_index % (len(clusters) + 1))\n",
    "\n",
    "def extract_cluster_entities(clusters, index):\n",
    "    ''' helper function that breaks down compound cluster to an array of features/columns\n",
    "        \n",
    "        clusters[0] is referenced by len(clusters) + 1 index\n",
    "        clusters[1] is referenced by len(clusters) + 2 index\n",
    "        ...\n",
    "        \n",
    "        # assuming\n",
    "        \n",
    "        clusters[2] = [len(clusters) + 1, len(clusters) + 2] <=> [ * clusters[0], * clusters[1] ]\n",
    "    '''\n",
    "\n",
    "    return [ \n",
    "        * extract_cluster_partition(clusters, index, 0), \n",
    "        * extract_cluster_partition(clusters, index, 1)\n",
    "    ]\n",
    "\n",
    "def extract_relevant_dependencies(features, clusters, threshold, show = False):\n",
    "    ''' helper function to remove feature dependencies by a threshold '''\n",
    "\n",
    "    # make copy\n",
    "    features_filtered = features.columns\n",
    "\n",
    "    # extracting unnecessary clusters, 2nd dimen 0-1 columns are similar clusters, filtering by distance 2nd col\n",
    "    clusters_filtered = clusters[clusters[:, 2] < threshold][:, :2].astype(dtype = \"int32\")\n",
    "\n",
    "    # expanding each compound cluster to a list of entities that makes up the cluster\n",
    "    clusters_filtered = [ extract_cluster_entities(clusters, index) for index, cluster in enumerate(clusters_filtered) ]\n",
    "    \n",
    "    # our validator function for finding which feature within the cluster to be kept\n",
    "    validator = validate_dependency(features_filtered.values.tolist())\n",
    "    \n",
    "    # unnecessary features that are correlated with its siblings within their cluster\n",
    "    columns_filtered = []\n",
    "    \n",
    "    for cluster in clusters_filtered:\n",
    "        \n",
    "        # filter already processed features within compound cluster with 3 and more features\n",
    "        cluster = [ feature for feature in cluster if feature not in columns_filtered ]\n",
    "        \n",
    "        # we'll have always a tuple\n",
    "        if len(cluster) != 2: \n",
    "            raise Exception(f\"Illegal number of features, got {len(cluster)}\")\n",
    "        \n",
    "        # compute accuracy with each feature removed one at once from the dataset\n",
    "        validators = [ validator(feature) for feature in cluster ]\n",
    "        \n",
    "        # retrieve the one that is the most uncertain when describing our dataset\n",
    "        feature_index = cluster[int(validators[0] > validators[1])]\n",
    "        \n",
    "        # this one will be kept\n",
    "        feature_kept_index = features_filtered[cluster[(feature_index + 1) % 2]]\n",
    "        \n",
    "        # update our filtered features\n",
    "        columns_filtered.append(feature_index)\n",
    "        \n",
    "        # distance score \n",
    "        features_score = -abs(validators[0] - validators[1])\n",
    "        \n",
    "        print(f\"{features_filtered[feature_index]} is less potent then {feature_kept_index}: {features_score}\")\n",
    "        \n",
    "    # mapping feature indices to their column name\n",
    "    columns_filtered = [ features_filtered[feature_index] for feature_index in columns_filtered ]\n",
    "    \n",
    "    if(show):\n",
    "        \n",
    "        # show them\n",
    "        print(f\"Non relevant features: \" + \" \".join(columns_filtered))\n",
    "\n",
    "    # discarding columns\n",
    "    features_filtered = [f for f in features_filtered if f not in columns_filtered]\n",
    "    \n",
    "    return features_filtered"
   ]
  },
  {
   "cell_type": "code",
   "execution_count": 136,
   "metadata": {},
   "outputs": [
    {
     "data": {
      "image/png": "[encoded data removed]",
      "text/plain": [
       "<Figure size 2016x1008 with 1 Axes>"
      ]
     },
     "metadata": {},
     "output_type": "display_data"
    }
   ],
   "source": [
    "clusters, features_filtered = generate_feature_dependencies(features, columns = list(feature_importances[\"columns\"]))"
   ]
  },
  {
   "cell_type": "code",
   "execution_count": 137,
   "metadata": {},
   "outputs": [
    {
     "name": "stdout",
     "output_type": "stream",
     "text": [
      "ProductGroup is less potent then ProductGroupDesc: -0.0013679042378045292\n",
      "Grouser_Tracks is less potent then Coupler_System: -8.004012511442227e-06\n",
      "Hydraulics_Flow is less potent then Coupler_System: -0.001451929083140624\n",
      "fiBaseModel is less potent then fiModelDesc: -0.000349009038678294\n",
      "Non relevant features: ProductGroup Grouser_Tracks Hydraulics_Flow fiBaseModel\n"
     ]
    }
   ],
   "source": [
    "features_relevant = extract_relevant_dependencies(features_filtered, clusters, 0.03, show = True)"
   ]
  },
  {
   "cell_type": "code",
   "execution_count": 202,
   "metadata": {},
   "outputs": [
    {
     "name": "stdout",
     "output_type": "stream",
     "text": [
      "Discarding unnecesary correlated features and re-running model training - 0.915697\n"
     ]
    }
   ],
   "source": [
    "# re-run model training\n",
    "model, score = model_validate(features, targets, threshold = 1 / 12, columns = features_relevant)\n",
    "\n",
    "print(f\"Discarding unnecesary correlated features and re-running model training - {round(score, 6)}\")"
   ]
  },
  {
   "cell_type": "code",
   "execution_count": 139,
   "metadata": {},
   "outputs": [
    {
     "data": {
      "image/png": "[encoded data removed]",
      "text/plain": [
       "<Figure size 864x432 with 1 Axes>"
      ]
     },
     "metadata": {},
     "output_type": "display_data"
    }
   ],
   "source": [
    "features.head(20000).pleot('YearMade', 'SalesID', 'scatter', figsize = (12, 6));"
   ]
  },
  {
   "cell_type": "code",
   "execution_count": 158,
   "metadata": {},
   "outputs": [
    {
     "name": "stdout",
     "output_type": "stream",
     "text": [
      "Mean gap between Year Made and Sale Year: 10.19240013671595\n"
     ]
    },
    {
     "name": "stderr",
     "output_type": "stream",
     "text": [
      "C:\\Users\\Cchiv\\Anaconda3\\lib\\site-packages\\ipykernel_launcher.py:8: SettingWithCopyWarning: \n",
      "A value is trying to be set on a copy of a slice from a DataFrame\n",
      "\n",
      "See the caveats in the documentation: http://pandas.pydata.org/pandas-docs/stable/indexing.html#indexing-view-versus-copy\n",
      "  \n"
     ]
    }
   ],
   "source": [
    "# feature YearMade adds noise when equal to 1000\n",
    "features_noise = features[\"YearMade\"] < 1930\n",
    "\n",
    "# compute mean as gap between YearMade and sale_year\n",
    "features_mean = np.mean(features[~features_noise][\"sale_year\"] - features[~features_noise][\"YearMade\"])\n",
    "\n",
    "# updated copy of features\n",
    "features_c = features.copy()\n",
    "\n",
    "# updating YearMade with normalized values \n",
    "features_c[\"YearMade\"][features_noise] = features[features_noise][\"sale_year\"] - features_mean\n",
    "\n",
    "# creating a new feature Age\n",
    "features_c[\"Age\"] = features[\"sale_year\"] - features[\"YearMade\"]\n",
    "\n",
    "# updating relevant features\n",
    "features_relevant += [\"Age\"]\n",
    "\n",
    "print(f\"Mean gap between Year Made and Sale Year: {features_mean}\")"
   ]
  },
  {
   "cell_type": "code",
   "execution_count": 192,
   "metadata": {},
   "outputs": [
    {
     "name": "stdout",
     "output_type": "stream",
     "text": [
      "Removing noise from dataset - 0.915877\n"
     ]
    }
   ],
   "source": [
    "# re-run model training\n",
    "model, score = model_validate(features_c, targets, threshold = 1 / 12, columns = features_relevant)\n",
    "\n",
    "print(f\"Removing noise from dataset - {round(score, 6)}\")"
   ]
  },
  {
   "cell_type": "code",
   "execution_count": 201,
   "metadata": {},
   "outputs": [
    {
     "data": {
      "image/png": "[encoded data removed]",
      "text/plain": [
       "<Figure size 720x504 with 1 Axes>"
      ]
     },
     "metadata": {},
     "output_type": "display_data"
    }
   ],
   "source": [
    "# extracting feature importances\n",
    "feature_importances_c = extract_feature_importances(model, features_relevant, threshold = None)\n",
    "\n",
    "print_feature_importances(feature_importances_c)"
   ]
  },
  {
   "cell_type": "markdown",
   "metadata": {},
   "source": [
    "### Extrapolation\n",
    "\n",
    "The idea is that we are trying to classify a random variable where independent features as keys(ids) will always perform better due to their uniqueness and zero penalty during classification learning process, as P(y = target | id) = 1.0, where for our regression analysis, little does it matter when dealing with unique keys."
   ]
  },
  {
   "cell_type": "code",
   "execution_count": null,
   "metadata": {},
   "outputs": [],
   "source": [
    "# copy data and keep relevant features\n",
    "data_c = data.copy()[features_relevant]\n",
    "\n",
    "# create class feature for classification \n",
    "data_c[\"class\"] = 1\n",
    "\n",
    "# assign a small subset with contradictory value\n",
    "data_c[\"class\"][:75000] = 0"
   ]
  },
  {
   "cell_type": "code",
   "execution_count": 318,
   "metadata": {},
   "outputs": [],
   "source": [
    "features_a, targets_a = hp.trans_numerical(data_c, \"class\")"
   ]
  },
  {
   "cell_type": "code",
   "execution_count": 319,
   "metadata": {},
   "outputs": [
    {
     "data": {
      "text/plain": [
       "RandomForestClassifier(bootstrap=True, class_weight=None, criterion='gini',\n",
       "            max_depth=None, max_features=0.6, max_leaf_nodes=3,\n",
       "            min_impurity_decrease=0.0, min_impurity_split=None,\n",
       "            min_samples_leaf=1, min_samples_split=2,\n",
       "            min_weight_fraction_leaf=0.0, n_estimators=40, n_jobs=1,\n",
       "            oob_score=True, random_state=None, verbose=0, warm_start=False)"
      ]
     },
     "execution_count": 319,
     "metadata": {},
     "output_type": "execute_result"
    }
   ],
   "source": [
    "# re-run model training with training and validation set consisting of \"class\" feature\n",
    "model_a = RandomForestClassifier(n_estimators = 40,\\\n",
    "                                min_samples_leaf = 3, max_features = 0.6, oob_score = True)\n",
    "\n",
    "model_a.fit(features_a, targets_a)"
   ]
  },
  {
   "cell_type": "code",
   "execution_count": 327,
   "metadata": {},
   "outputs": [
    {
     "name": "stdout",
     "output_type": "stream",
     "text": [
      "Score - 0.998714\n"
     ]
    }
   ],
   "source": [
    "print(f\"Score - {round(model_a.oob_score_, 6)}\")"
   ]
  },
  {
   "cell_type": "code",
   "execution_count": 328,
   "metadata": {},
   "outputs": [
    {
     "data": {
      "image/png": "[encoded data removed]",
      "text/plain": [
       "<Figure size 720x504 with 1 Axes>"
      ]
     },
     "metadata": {},
     "output_type": "display_data"
    }
   ],
   "source": [
    "# extracting the most important features\n",
    "feature_importances_a = extract_feature_importances(model_a, features_a.columns, threshold = None)\n",
    "\n",
    "print_feature_importances(feature_importances_a)"
   ]
  },
  {
   "cell_type": "code",
   "execution_count": 335,
   "metadata": {},
   "outputs": [
    {
     "data": {
      "text/html": [
       "<div>\n",
       "<style scoped>\n",
       "    .dataframe tbody tr th:only-of-type {\n",
       "        vertical-align: middle;\n",
       "    }\n",
       "\n",
       "    .dataframe tbody tr th {\n",
       "        vertical-align: top;\n",
       "    }\n",
       "\n",
       "    .dataframe thead th {\n",
       "        text-align: right;\n",
       "    }\n",
       "</style>\n",
       "<table border=\"1\" class=\"dataframe\">\n",
       "  <thead>\n",
       "    <tr style=\"text-align: right;\">\n",
       "      <th></th>\n",
       "      <th>columns</th>\n",
       "      <th>importance</th>\n",
       "    </tr>\n",
       "  </thead>\n",
       "  <tbody>\n",
       "    <tr>\n",
       "      <th>10</th>\n",
       "      <td>SalesID</td>\n",
       "      <td>0.883518</td>\n",
       "    </tr>\n",
       "    <tr>\n",
       "      <th>12</th>\n",
       "      <td>MachineID</td>\n",
       "      <td>0.053126</td>\n",
       "    </tr>\n",
       "    <tr>\n",
       "      <th>23</th>\n",
       "      <td>auctioneerID</td>\n",
       "      <td>0.034329</td>\n",
       "    </tr>\n",
       "    <tr>\n",
       "      <th>7</th>\n",
       "      <td>fiModelDesc</td>\n",
       "      <td>0.020914</td>\n",
       "    </tr>\n",
       "  </tbody>\n",
       "</table>\n",
       "</div>"
      ],
      "text/plain": [
       "         columns  importance\n",
       "10       SalesID    0.883518\n",
       "12     MachineID    0.053126\n",
       "23  auctioneerID    0.034329\n",
       "7    fiModelDesc    0.020914"
      ]
     },
     "execution_count": 335,
     "metadata": {},
     "output_type": "execute_result"
    }
   ],
   "source": [
    "# filter way too random features\n",
    "features_random = feature_importances_a[feature_importances_a[\"importance\"] > 0.02]\n",
    "\n",
    "features_random"
   ]
  },
  {
   "cell_type": "code",
   "execution_count": 339,
   "metadata": {},
   "outputs": [
    {
     "name": "stdout",
     "output_type": "stream",
     "text": [
      "Removing feature SalesID with score - 0.916219\n",
      "Removing feature MachineID with score - 0.916301\n",
      "Removing feature auctioneerID with score - 0.914252\n",
      "Removing feature fiModelDesc with score - 0.913211\n"
     ]
    }
   ],
   "source": [
    "for feature_random in features_random[\"columns\"]:\n",
    "    \n",
    "    # updating relevant features\n",
    "    features_relevant_r = [ feature for feature in features_relevant if not feature == feature_random ]\n",
    "    \n",
    "    # re-run model training\n",
    "    model, score = model_validate(features_c, targets, threshold = 1 / 12, columns = features_relevant_r)\n",
    "\n",
    "    print(f\"Removing feature {feature_random} with score - {round(score, 6)}\")"
   ]
  },
  {
   "cell_type": "code",
   "execution_count": 340,
   "metadata": {},
   "outputs": [],
   "source": [
    "# updating our relevant features\n",
    "features_relevant_r = [ feature for feature in features_relevant if feature not in [\"SalesID\", \"MachineID\"] ]"
   ]
  },
  {
   "cell_type": "markdown",
   "metadata": {},
   "source": [
    "### Final Model"
   ]
  },
  {
   "cell_type": "code",
   "execution_count": 349,
   "metadata": {},
   "outputs": [
    {
     "name": "stdout",
     "output_type": "stream",
     "text": [
      "Final score - 0.920273\n"
     ]
    }
   ],
   "source": [
    "# re-run model training one last time\n",
    "model, score = model_validate(features, targets, threshold = 1 / 12, columns = features_relevant,\\\n",
    "                              n_estimators = 120, min_samples_leaf = 3)\n",
    "\n",
    "print(f\"Final score - {round(score, 6)}\")"
   ]
  }
 ],
 "metadata": {
  "kernelspec": {
   "display_name": "Python 3",
   "language": "python",
   "name": "python3"
  },
  "language_info": {
   "codemirror_mode": {
    "name": "ipython",
    "version": 3
   },
   "file_extension": ".py",
   "mimetype": "text/x-python",
   "name": "python",
   "nbconvert_exporter": "python",
   "pygments_lexer": "ipython3",
   "version": "3.6.5"
  }
 },
 "nbformat": 4,
 "nbformat_minor": 2
}
