{
 "cells": [
  {
   "cell_type": "markdown",
   "metadata": {},
   "source": [
    "## Auction Sale Price"
   ]
  },
  {
   "cell_type": "markdown",
   "metadata": {},
   "source": [
    "Based on fastai course https://github.com/fastai"
   ]
  },
  {
   "cell_type": "code",
   "execution_count": 152,
   "metadata": {},
   "outputs": [],
   "source": [
    "import pandas as pd\n",
    "import numpy as np\n",
    "import matplotlib.pyplot as plt\n",
    "\n",
    "from sklearn.ensemble import RandomForestRegressor\n",
    "from scipy.cluster import hierarchy\n",
    "from scipy.stats import spearmanr\n",
    "from pandas.api.types import is_string_dtype, is_numeric_dtype, is_categorical_dtype"
   ]
  },
  {
   "cell_type": "code",
   "execution_count": 2,
   "metadata": {},
   "outputs": [
    {
     "data": {
      "text/html": [
       "<div>\n",
       "<style scoped>\n",
       "    .dataframe tbody tr th:only-of-type {\n",
       "        vertical-align: middle;\n",
       "    }\n",
       "\n",
       "    .dataframe tbody tr th {\n",
       "        vertical-align: top;\n",
       "    }\n",
       "\n",
       "    .dataframe thead th {\n",
       "        text-align: right;\n",
       "    }\n",
       "</style>\n",
       "<table border=\"1\" class=\"dataframe\">\n",
       "  <thead>\n",
       "    <tr style=\"text-align: right;\">\n",
       "      <th></th>\n",
       "      <th>SalesID</th>\n",
       "      <th>SalePrice</th>\n",
       "      <th>MachineID</th>\n",
       "      <th>ModelID</th>\n",
       "      <th>datasource</th>\n",
       "      <th>auctioneerID</th>\n",
       "      <th>YearMade</th>\n",
       "      <th>MachineHoursCurrentMeter</th>\n",
       "      <th>UsageBand</th>\n",
       "      <th>saledate</th>\n",
       "      <th>...</th>\n",
       "      <th>Undercarriage_Pad_Width</th>\n",
       "      <th>Stick_Length</th>\n",
       "      <th>Thumb</th>\n",
       "      <th>Pattern_Changer</th>\n",
       "      <th>Grouser_Type</th>\n",
       "      <th>Backhoe_Mounting</th>\n",
       "      <th>Blade_Type</th>\n",
       "      <th>Travel_Controls</th>\n",
       "      <th>Differential_Type</th>\n",
       "      <th>Steering_Controls</th>\n",
       "    </tr>\n",
       "  </thead>\n",
       "  <tbody>\n",
       "    <tr>\n",
       "      <th>0</th>\n",
       "      <td>1139246</td>\n",
       "      <td>66000</td>\n",
       "      <td>999089</td>\n",
       "      <td>3157</td>\n",
       "      <td>121</td>\n",
       "      <td>3.0</td>\n",
       "      <td>2004</td>\n",
       "      <td>68.0</td>\n",
       "      <td>Low</td>\n",
       "      <td>2006-11-16</td>\n",
       "      <td>...</td>\n",
       "      <td>NaN</td>\n",
       "      <td>NaN</td>\n",
       "      <td>NaN</td>\n",
       "      <td>NaN</td>\n",
       "      <td>NaN</td>\n",
       "      <td>NaN</td>\n",
       "      <td>NaN</td>\n",
       "      <td>NaN</td>\n",
       "      <td>Standard</td>\n",
       "      <td>Conventional</td>\n",
       "    </tr>\n",
       "    <tr>\n",
       "      <th>1</th>\n",
       "      <td>1139248</td>\n",
       "      <td>57000</td>\n",
       "      <td>117657</td>\n",
       "      <td>77</td>\n",
       "      <td>121</td>\n",
       "      <td>3.0</td>\n",
       "      <td>1996</td>\n",
       "      <td>4640.0</td>\n",
       "      <td>Low</td>\n",
       "      <td>2004-03-26</td>\n",
       "      <td>...</td>\n",
       "      <td>NaN</td>\n",
       "      <td>NaN</td>\n",
       "      <td>NaN</td>\n",
       "      <td>NaN</td>\n",
       "      <td>NaN</td>\n",
       "      <td>NaN</td>\n",
       "      <td>NaN</td>\n",
       "      <td>NaN</td>\n",
       "      <td>Standard</td>\n",
       "      <td>Conventional</td>\n",
       "    </tr>\n",
       "    <tr>\n",
       "      <th>2</th>\n",
       "      <td>1139249</td>\n",
       "      <td>10000</td>\n",
       "      <td>434808</td>\n",
       "      <td>7009</td>\n",
       "      <td>121</td>\n",
       "      <td>3.0</td>\n",
       "      <td>2001</td>\n",
       "      <td>2838.0</td>\n",
       "      <td>High</td>\n",
       "      <td>2004-02-26</td>\n",
       "      <td>...</td>\n",
       "      <td>NaN</td>\n",
       "      <td>NaN</td>\n",
       "      <td>NaN</td>\n",
       "      <td>NaN</td>\n",
       "      <td>NaN</td>\n",
       "      <td>NaN</td>\n",
       "      <td>NaN</td>\n",
       "      <td>NaN</td>\n",
       "      <td>NaN</td>\n",
       "      <td>NaN</td>\n",
       "    </tr>\n",
       "    <tr>\n",
       "      <th>3</th>\n",
       "      <td>1139251</td>\n",
       "      <td>38500</td>\n",
       "      <td>1026470</td>\n",
       "      <td>332</td>\n",
       "      <td>121</td>\n",
       "      <td>3.0</td>\n",
       "      <td>2001</td>\n",
       "      <td>3486.0</td>\n",
       "      <td>High</td>\n",
       "      <td>2011-05-19</td>\n",
       "      <td>...</td>\n",
       "      <td>NaN</td>\n",
       "      <td>NaN</td>\n",
       "      <td>NaN</td>\n",
       "      <td>NaN</td>\n",
       "      <td>NaN</td>\n",
       "      <td>NaN</td>\n",
       "      <td>NaN</td>\n",
       "      <td>NaN</td>\n",
       "      <td>NaN</td>\n",
       "      <td>NaN</td>\n",
       "    </tr>\n",
       "    <tr>\n",
       "      <th>4</th>\n",
       "      <td>1139253</td>\n",
       "      <td>11000</td>\n",
       "      <td>1057373</td>\n",
       "      <td>17311</td>\n",
       "      <td>121</td>\n",
       "      <td>3.0</td>\n",
       "      <td>2007</td>\n",
       "      <td>722.0</td>\n",
       "      <td>Medium</td>\n",
       "      <td>2009-07-23</td>\n",
       "      <td>...</td>\n",
       "      <td>NaN</td>\n",
       "      <td>NaN</td>\n",
       "      <td>NaN</td>\n",
       "      <td>NaN</td>\n",
       "      <td>NaN</td>\n",
       "      <td>NaN</td>\n",
       "      <td>NaN</td>\n",
       "      <td>NaN</td>\n",
       "      <td>NaN</td>\n",
       "      <td>NaN</td>\n",
       "    </tr>\n",
       "  </tbody>\n",
       "</table>\n",
       "<p>5 rows × 53 columns</p>\n",
       "</div>"
      ],
      "text/plain": [
       "   SalesID  SalePrice  MachineID  ModelID  datasource  auctioneerID  YearMade  \\\n",
       "0  1139246      66000     999089     3157         121           3.0      2004   \n",
       "1  1139248      57000     117657       77         121           3.0      1996   \n",
       "2  1139249      10000     434808     7009         121           3.0      2001   \n",
       "3  1139251      38500    1026470      332         121           3.0      2001   \n",
       "4  1139253      11000    1057373    17311         121           3.0      2007   \n",
       "\n",
       "   MachineHoursCurrentMeter UsageBand   saledate        ...         \\\n",
       "0                      68.0       Low 2006-11-16        ...          \n",
       "1                    4640.0       Low 2004-03-26        ...          \n",
       "2                    2838.0      High 2004-02-26        ...          \n",
       "3                    3486.0      High 2011-05-19        ...          \n",
       "4                     722.0    Medium 2009-07-23        ...          \n",
       "\n",
       "  Undercarriage_Pad_Width Stick_Length Thumb Pattern_Changer Grouser_Type  \\\n",
       "0                     NaN          NaN   NaN             NaN          NaN   \n",
       "1                     NaN          NaN   NaN             NaN          NaN   \n",
       "2                     NaN          NaN   NaN             NaN          NaN   \n",
       "3                     NaN          NaN   NaN             NaN          NaN   \n",
       "4                     NaN          NaN   NaN             NaN          NaN   \n",
       "\n",
       "  Backhoe_Mounting Blade_Type Travel_Controls Differential_Type  \\\n",
       "0              NaN        NaN             NaN          Standard   \n",
       "1              NaN        NaN             NaN          Standard   \n",
       "2              NaN        NaN             NaN               NaN   \n",
       "3              NaN        NaN             NaN               NaN   \n",
       "4              NaN        NaN             NaN               NaN   \n",
       "\n",
       "  Steering_Controls  \n",
       "0      Conventional  \n",
       "1      Conventional  \n",
       "2               NaN  \n",
       "3               NaN  \n",
       "4               NaN  \n",
       "\n",
       "[5 rows x 53 columns]"
      ]
     },
     "execution_count": 2,
     "metadata": {},
     "output_type": "execute_result"
    }
   ],
   "source": [
    "data = pd.read_csv(\"./data/Train.csv\", low_memory = False, parse_dates = [\"saledate\"])\n",
    "\n",
    "data.head()"
   ]
  },
  {
   "cell_type": "code",
   "execution_count": 3,
   "metadata": {},
   "outputs": [],
   "source": [
    "data.SalePrice = np.log(data.SalePrice)"
   ]
  },
  {
   "cell_type": "code",
   "execution_count": 4,
   "metadata": {},
   "outputs": [],
   "source": [
    "def split_date(data_frame, col_name):\n",
    "    ''' helper function to split the date into corresponding categoricals '''\n",
    "    \n",
    "    # split date into corresponding columns\n",
    "    split_date.props = [\"year\", \"month\", \"day\"]\n",
    "    \n",
    "    # extract date column\n",
    "    col_date = data_frame[col_name]\n",
    "    \n",
    "    # extracting date properties and storing into individual columns\n",
    "    for d in split_date.props:\n",
    "        if(hasattr(col_date.dt, d)):\n",
    "            data_frame[f\"sale_{d}\"] = getattr(col_date.dt, d)\n",
    "            \n",
    "    # extracting timestamp\n",
    "    data_frame[\"sale_timestamp\"] = col_date.astype(np.int64) // (10 ** 9)\n",
    "    \n",
    "    # removing the raw column\n",
    "    data_frame.drop(columns = [col_name], inplace = True)\n",
    "    \n",
    "    \n",
    "def trans_categorical(data_frame):\n",
    "    ''' helper function to tranform text-based columns to numerical(categorical ones)'''\n",
    "    \n",
    "    # loop through each col\n",
    "    for label, column in data_frame.items():\n",
    "        \n",
    "        # if string convert as category\n",
    "        if(is_string_dtype(data_frame[label])):\n",
    "            data_frame[label] = data_frame[label].astype(\"category\")\n",
    "            \n",
    "            \n",
    "def trans_numerical(data_frame, target):\n",
    "    ''' helper function for retrieving numerical features and targets, \n",
    "    null values are transformed into the median value of the column. '''\n",
    "\n",
    "    # copy the data frame\n",
    "    data_frame_c = data_frame.copy()\n",
    "\n",
    "    # loop through each col and normalize\n",
    "    for label, column in data_frame_c.items():\n",
    "        \n",
    "        # check if numerical and contain nulls\n",
    "        if(is_numeric_dtype(column) and pd.isnull(column).sum() != 0):\n",
    "            \n",
    "            # column median\n",
    "            median = column.median()\n",
    "            \n",
    "            # fill the data with the median\n",
    "            data_frame_c[label] = column.fillna(median)\n",
    "            \n",
    "    # loop through each col and change to numerical\n",
    "    for label, column in data_frame_c.items(): \n",
    "        \n",
    "        # if numerical nothing to do\n",
    "        if(not is_numeric_dtype(column)):\n",
    "            \n",
    "            # change to numerical data\n",
    "            data_frame_c[label] = data_frame_c[label].astype(\"category\").cat.codes + 1\n",
    "    \n",
    "    return [ data_frame_c.drop(columns = [ target ]), data_frame_c[target].values ]"
   ]
  },
  {
   "cell_type": "code",
   "execution_count": 5,
   "metadata": {},
   "outputs": [],
   "source": [
    "split_date(data, \"saledate\")\n",
    "\n",
    "trans_categorical(data)"
   ]
  },
  {
   "cell_type": "code",
   "execution_count": 6,
   "metadata": {},
   "outputs": [
    {
     "data": {
      "text/plain": [
       "Index(['Compact', 'Large', 'Large / Medium', 'Medium', 'Mini', 'Small'], dtype='object')"
      ]
     },
     "execution_count": 6,
     "metadata": {},
     "output_type": "execute_result"
    }
   ],
   "source": [
    "is_categorical_dtype(data[\"ProductSize\"])\n",
    "\n",
    "data.ProductSize.cat.categories"
   ]
  },
  {
   "cell_type": "code",
   "execution_count": 7,
   "metadata": {},
   "outputs": [
    {
     "data": {
      "text/plain": [
       "0   -1\n",
       "1    3\n",
       "2   -1\n",
       "3    5\n",
       "4   -1\n",
       "dtype: int8"
      ]
     },
     "execution_count": 7,
     "metadata": {},
     "output_type": "execute_result"
    }
   ],
   "source": [
    "data.ProductSize.cat.codes.head()"
   ]
  },
  {
   "cell_type": "code",
   "execution_count": 8,
   "metadata": {},
   "outputs": [
    {
     "data": {
      "text/plain": [
       "SalesID       0\n",
       "SalePrice     0\n",
       "MachineID     0\n",
       "ModelID       0\n",
       "datasource    0\n",
       "dtype: int64"
      ]
     },
     "execution_count": 8,
     "metadata": {},
     "output_type": "execute_result"
    }
   ],
   "source": [
    "data.isnull().sum().head()"
   ]
  },
  {
   "cell_type": "code",
   "execution_count": 9,
   "metadata": {},
   "outputs": [],
   "source": [
    "features, targets = trans_numerical(data, \"SalePrice\")"
   ]
  },
  {
   "cell_type": "code",
   "execution_count": 231,
   "metadata": {},
   "outputs": [],
   "source": [
    "def pred_model(train, valid, n_estimators = 10, min_samples_leaf = 1, max_features = 'auto', oob_score = False):\n",
    "    ''' helper function to train and validate a model, train and valid are tuples of features and targets '''\n",
    "    \n",
    "    # create a random forest\n",
    "    model = RandomForestRegressor(n_estimators = n_estimators, min_samples_leaf = min_samples_leaf,\\\n",
    "                                  max_features = max_features, oob_score = oob_score)\n",
    "    \n",
    "    # fit the training features and targets\n",
    "    model.fit(train[0], train[1])\n",
    "    \n",
    "    return (model, model.score(valid[0], valid[1]))"
   ]
  },
  {
   "cell_type": "code",
   "execution_count": 11,
   "metadata": {},
   "outputs": [],
   "source": [
    "train = (features, targets)"
   ]
  },
  {
   "cell_type": "code",
   "execution_count": 12,
   "metadata": {},
   "outputs": [
    {
     "name": "stdout",
     "output_type": "stream",
     "text": [
      "Model is heavily overfitting with 0.9830797914787865 and won't do well on new data samples\n"
     ]
    }
   ],
   "source": [
    "model, score = pred_model(train, train)\n",
    "\n",
    "print(f\"Model is heavily overfitting with {score} and won't do well on new data samples\")"
   ]
  },
  {
   "cell_type": "code",
   "execution_count": 13,
   "metadata": {},
   "outputs": [],
   "source": [
    "def split_dataset(data, threshold, columns = None):\n",
    "    ''' helper function to split data into training and validation set '''\n",
    "    \n",
    "    # provisional data copied\n",
    "    data_prov = data.copy()\n",
    "    \n",
    "    # filter columns\n",
    "    if(columns is not None):\n",
    "        data_prov = data_prov[columns]\n",
    "\n",
    "    return data_prov[threshold:], data_prov[:threshold].copy()\n",
    "\n",
    "def split_data(features, targets, threshold, columns = None):\n",
    "    ''' helper function to split data into training and validation set '''\n",
    "    \n",
    "    # splitting features\n",
    "    train_features, valid_features = split_dataset(features, threshold, columns = columns)\n",
    "    \n",
    "    # splitting targets\n",
    "    train_targets, valid_targets = split_dataset(targets, threshold, columns = None)\n",
    "    \n",
    "    return (train_features, train_targets), (valid_features, valid_targets)"
   ]
  },
  {
   "cell_type": "code",
   "execution_count": 14,
   "metadata": {},
   "outputs": [],
   "source": [
    "train, valid = split_data(features, targets, threshold = 12000)"
   ]
  },
  {
   "cell_type": "code",
   "execution_count": 15,
   "metadata": {},
   "outputs": [
    {
     "name": "stdout",
     "output_type": "stream",
     "text": [
      "Model is heavily overfitting on train set as it does 0.8783762813641063 on unseen before samples\n"
     ]
    }
   ],
   "source": [
    "model, score = pred_model(train, valid)\n",
    "\n",
    "print(f\"Model is heavily overfitting on train set as it does {score} on unseen before samples\")"
   ]
  },
  {
   "cell_type": "code",
   "execution_count": 16,
   "metadata": {},
   "outputs": [
    {
     "name": "stdout",
     "output_type": "stream",
     "text": [
      "Generalizes better with 0.9005931040943463 by early stopping, using smaller pool(features) and random subsets for training\n"
     ]
    }
   ],
   "source": [
    "model, score = pred_model(train, valid, n_estimators = 40, min_samples_leaf = 6, max_features = 0.6)\n",
    "\n",
    "print(f\"Generalizes better with {score} by early stopping, using smaller pool(features) and random subsets for training\")"
   ]
  },
  {
   "cell_type": "code",
   "execution_count": 18,
   "metadata": {},
   "outputs": [
    {
     "name": "stdout",
     "output_type": "stream",
     "text": [
      "10.975197960798123\n"
     ]
    }
   ],
   "source": [
    "print(model.predict(valid[0][:1])[0])"
   ]
  },
  {
   "cell_type": "code",
   "execution_count": 20,
   "metadata": {},
   "outputs": [
    {
     "name": "stdout",
     "output_type": "stream",
     "text": [
      "11.1, 11.22, 10.84, 11.11, 10.8, 11.18, 11.36, 11.12...\n",
      "Trees that sees a different subset of data with higher information gain when splitting will complement those that don't so well - 10.9752, with 0.29763 confidence\n"
     ]
    }
   ],
   "source": [
    "# stacking each tree prediction with TxP => PxT\n",
    "tree_scores = np.stack([ t.predict(valid[0]) for t in model.estimators_ ]).transpose()\n",
    "\n",
    "# pool a smaller subset of results from a single prediction\n",
    "tree_scores_sub = [ str(round(t, 2)) for t in tree_scores[0][:8] ]\n",
    "\n",
    "score_mean = round(np.mean(tree_scores[0]), 5)\n",
    "score_std = round(np.std(tree_scores[0]), 5)\n",
    "\n",
    "print(\", \".join(tree_scores_sub) + \"...\")\n",
    "print(f\"Trees that sees a different subset of data with higher information gain when splitting will complement\\\n",
    " those that don't so well - {score_mean}, with {score_std} confidence\")"
   ]
  },
  {
   "cell_type": "code",
   "execution_count": 21,
   "metadata": {},
   "outputs": [],
   "source": [
    "data_rt, data_rv  = split_dataset(data, 12000)"
   ]
  },
  {
   "cell_type": "code",
   "execution_count": 24,
   "metadata": {},
   "outputs": [
    {
     "data": {
      "text/plain": [
       "<matplotlib.axes._subplots.AxesSubplot at 0x21a0023feb8>"
      ]
     },
     "execution_count": 24,
     "metadata": {},
     "output_type": "execute_result"
    },
    {
     "data": {
      "image/png": "[encoded data removed]",
      "text/plain": [
       "<Figure size 432x288 with 1 Axes>"
      ]
     },
     "metadata": {},
     "output_type": "display_data"
    }
   ],
   "source": [
    "x = data_rv.copy()\n",
    "\n",
    "x['Pred'] = np.mean(tree_scores, axis = 1)\n",
    "x['PredDeviation'] = np.std(tree_scores, axis = 1)\n",
    "\n",
    "x.Enclosure.value_counts().plot.barh()"
   ]
  },
  {
   "cell_type": "code",
   "execution_count": 25,
   "metadata": {},
   "outputs": [
    {
     "data": {
      "text/html": [
       "<div>\n",
       "<style scoped>\n",
       "    .dataframe tbody tr th:only-of-type {\n",
       "        vertical-align: middle;\n",
       "    }\n",
       "\n",
       "    .dataframe tbody tr th {\n",
       "        vertical-align: top;\n",
       "    }\n",
       "\n",
       "    .dataframe thead th {\n",
       "        text-align: right;\n",
       "    }\n",
       "</style>\n",
       "<table border=\"1\" class=\"dataframe\">\n",
       "  <thead>\n",
       "    <tr style=\"text-align: right;\">\n",
       "      <th></th>\n",
       "      <th>Enclosure</th>\n",
       "      <th>SalePrice</th>\n",
       "      <th>Pred</th>\n",
       "      <th>PredDeviation</th>\n",
       "    </tr>\n",
       "  </thead>\n",
       "  <tbody>\n",
       "    <tr>\n",
       "      <th>0</th>\n",
       "      <td>EROPS</td>\n",
       "      <td>9.964365</td>\n",
       "      <td>9.972402</td>\n",
       "      <td>0.223130</td>\n",
       "    </tr>\n",
       "    <tr>\n",
       "      <th>1</th>\n",
       "      <td>EROPS AC</td>\n",
       "      <td>NaN</td>\n",
       "      <td>NaN</td>\n",
       "      <td>NaN</td>\n",
       "    </tr>\n",
       "    <tr>\n",
       "      <th>2</th>\n",
       "      <td>EROPS w AC</td>\n",
       "      <td>10.726390</td>\n",
       "      <td>10.692962</td>\n",
       "      <td>0.216322</td>\n",
       "    </tr>\n",
       "    <tr>\n",
       "      <th>3</th>\n",
       "      <td>NO ROPS</td>\n",
       "      <td>NaN</td>\n",
       "      <td>NaN</td>\n",
       "      <td>NaN</td>\n",
       "    </tr>\n",
       "    <tr>\n",
       "      <th>4</th>\n",
       "      <td>None or Unspecified</td>\n",
       "      <td>NaN</td>\n",
       "      <td>NaN</td>\n",
       "      <td>NaN</td>\n",
       "    </tr>\n",
       "    <tr>\n",
       "      <th>5</th>\n",
       "      <td>OROPS</td>\n",
       "      <td>9.899330</td>\n",
       "      <td>9.916311</td>\n",
       "      <td>0.176180</td>\n",
       "    </tr>\n",
       "  </tbody>\n",
       "</table>\n",
       "</div>"
      ],
      "text/plain": [
       "             Enclosure  SalePrice       Pred  PredDeviation\n",
       "0                EROPS   9.964365   9.972402       0.223130\n",
       "1             EROPS AC        NaN        NaN            NaN\n",
       "2           EROPS w AC  10.726390  10.692962       0.216322\n",
       "3              NO ROPS        NaN        NaN            NaN\n",
       "4  None or Unspecified        NaN        NaN            NaN\n",
       "5                OROPS   9.899330   9.916311       0.176180"
      ]
     },
     "execution_count": 25,
     "metadata": {},
     "output_type": "execute_result"
    }
   ],
   "source": [
    "columns = [\"Enclosure\", \"SalePrice\", \"Pred\", \"PredDeviation\"]\n",
    "\n",
    "p = x[columns].groupby(\"Enclosure\", as_index = False).mean()\n",
    "\n",
    "p"
   ]
  },
  {
   "cell_type": "code",
   "execution_count": 26,
   "metadata": {},
   "outputs": [
    {
     "data": {
      "text/plain": [
       "<matplotlib.axes._subplots.AxesSubplot at 0x21a055a54e0>"
      ]
     },
     "execution_count": 26,
     "metadata": {},
     "output_type": "execute_result"
    },
    {
     "data": {
      "image/png": "[encoded data removed]",
      "text/plain": [
       "<Figure size 432x288 with 1 Axes>"
      ]
     },
     "metadata": {},
     "output_type": "display_data"
    }
   ],
   "source": [
    "p[~pd.isnull(p.SalePrice)].plot(\"Enclosure\", \"Pred\", \"barh\", xerr = \"PredDeviation\", xlim = (1, 12))"
   ]
  },
  {
   "cell_type": "markdown",
   "metadata": {},
   "source": [
    "### Feature importance"
   ]
  },
  {
   "cell_type": "code",
   "execution_count": 27,
   "metadata": {},
   "outputs": [],
   "source": [
    "def extract_feature_importances(model, data, trim = -1, threshold = None):\n",
    "    ''' helper function to extract feature importances '''\n",
    "    \n",
    "    # create a feature importances data frame\n",
    "    feature_importances = pd.DataFrame({\"columns\" : data.columns, \"importance\" : model.feature_importances_})\n",
    "\n",
    "    # descending ordering and trim\n",
    "    feature_importances = feature_importances.sort_values(\"importance\", ascending = False)[:trim]\n",
    "    \n",
    "    # apply filtering on unnecessary features\n",
    "    if(threshold is not None):\n",
    "        feature_importances = feature_importances[feature_importances.importance > threshold]\n",
    "    \n",
    "    return feature_importances"
   ]
  },
  {
   "cell_type": "code",
   "execution_count": 28,
   "metadata": {},
   "outputs": [
    {
     "data": {
      "text/html": [
       "<div>\n",
       "<style scoped>\n",
       "    .dataframe tbody tr th:only-of-type {\n",
       "        vertical-align: middle;\n",
       "    }\n",
       "\n",
       "    .dataframe tbody tr th {\n",
       "        vertical-align: top;\n",
       "    }\n",
       "\n",
       "    .dataframe thead th {\n",
       "        text-align: right;\n",
       "    }\n",
       "</style>\n",
       "<table border=\"1\" class=\"dataframe\">\n",
       "  <thead>\n",
       "    <tr style=\"text-align: right;\">\n",
       "      <th></th>\n",
       "      <th>columns</th>\n",
       "      <th>importance</th>\n",
       "    </tr>\n",
       "  </thead>\n",
       "  <tbody>\n",
       "    <tr>\n",
       "      <th>5</th>\n",
       "      <td>YearMade</td>\n",
       "      <td>0.176743</td>\n",
       "    </tr>\n",
       "    <tr>\n",
       "      <th>37</th>\n",
       "      <td>Coupler_System</td>\n",
       "      <td>0.122650</td>\n",
       "    </tr>\n",
       "    <tr>\n",
       "      <th>14</th>\n",
       "      <td>fiProductClassDesc</td>\n",
       "      <td>0.099769</td>\n",
       "    </tr>\n",
       "    <tr>\n",
       "      <th>13</th>\n",
       "      <td>ProductSize</td>\n",
       "      <td>0.090443</td>\n",
       "    </tr>\n",
       "    <tr>\n",
       "      <th>2</th>\n",
       "      <td>ModelID</td>\n",
       "      <td>0.061960</td>\n",
       "    </tr>\n",
       "    <tr>\n",
       "      <th>54</th>\n",
       "      <td>sale_timestamp</td>\n",
       "      <td>0.057642</td>\n",
       "    </tr>\n",
       "    <tr>\n",
       "      <th>38</th>\n",
       "      <td>Grouser_Tracks</td>\n",
       "      <td>0.053275</td>\n",
       "    </tr>\n",
       "    <tr>\n",
       "      <th>10</th>\n",
       "      <td>fiSecondaryDesc</td>\n",
       "      <td>0.040375</td>\n",
       "    </tr>\n",
       "    <tr>\n",
       "      <th>39</th>\n",
       "      <td>Hydraulics_Flow</td>\n",
       "      <td>0.037247</td>\n",
       "    </tr>\n",
       "    <tr>\n",
       "      <th>19</th>\n",
       "      <td>Enclosure</td>\n",
       "      <td>0.035988</td>\n",
       "    </tr>\n",
       "  </tbody>\n",
       "</table>\n",
       "</div>"
      ],
      "text/plain": [
       "               columns  importance\n",
       "5             YearMade    0.176743\n",
       "37      Coupler_System    0.122650\n",
       "14  fiProductClassDesc    0.099769\n",
       "13         ProductSize    0.090443\n",
       "2              ModelID    0.061960\n",
       "54      sale_timestamp    0.057642\n",
       "38      Grouser_Tracks    0.053275\n",
       "10     fiSecondaryDesc    0.040375\n",
       "39     Hydraulics_Flow    0.037247\n",
       "19           Enclosure    0.035988"
      ]
     },
     "execution_count": 28,
     "metadata": {},
     "output_type": "execute_result"
    }
   ],
   "source": [
    "# extracting feature importances\n",
    "feature_importances = extract_feature_importances(model, train[0], threshold = 0.003)\n",
    "\n",
    "feature_importances.head(n = 10)"
   ]
  },
  {
   "cell_type": "code",
   "execution_count": 32,
   "metadata": {},
   "outputs": [
    {
     "name": "stdout",
     "output_type": "stream",
     "text": [
      "Less redunant data result in less chance to get snagged into a split that would become less significant as more splits will follow up - 0.898306\n"
     ]
    }
   ],
   "source": [
    "# extracting train and validation set with filtered columns based on importance \n",
    "train_f, valid_f = split_data(features, targets, threshold = 12000, columns = feature_importances[\"columns\"])\n",
    "\n",
    "# re-run model training\n",
    "model_f, score_f = pred_model(train_f, valid_f, n_estimators = 40, min_samples_leaf = 6, max_features = 0.6)\n",
    "\n",
    "print(f\"Less redunant data result in less chance to get snagged into a split that would become less\\\n",
    " significant as more splits will follow up - {round(score_f, 6)}\")"
   ]
  },
  {
   "cell_type": "markdown",
   "metadata": {},
   "source": [
    "### Removing redundant features"
   ]
  },
  {
   "cell_type": "code",
   "execution_count": 308,
   "metadata": {},
   "outputs": [],
   "source": [
    "def generate_feature_dependencies(features, columns = None):\n",
    "    ''' helper function to extract feature dependencies by clustering '''\n",
    "\n",
    "    # make copy\n",
    "    features_filtered = features.copy()\n",
    "    \n",
    "    # filter columns\n",
    "    if(columns is not None):\n",
    "        features_filtered = features_filtered[columns]\n",
    "\n",
    "    # calculate correlations between different columns\n",
    "    correlation = spearmanr(features_filtered).correlation\n",
    "\n",
    "    # compute clusters based on average distance\n",
    "    clusters = hierarchy.linkage(correlation, method = 'average')\n",
    "\n",
    "    # explicitly set bigger size\n",
    "    fig = plt.figure(figsize = (28, 14))\n",
    "    \n",
    "    # generate a dendrogram\n",
    "    hierarchy.dendrogram(clusters, labels = features_f.columns, orientation = 'right', leaf_font_size = 18)\n",
    "\n",
    "    # show plot\n",
    "    plt.show()\n",
    "    \n",
    "    return (clusters, features_filtered)\n",
    "\n",
    "def validate_dependency(columns):\n",
    "    \n",
    "    def validator(column_index):\n",
    "\n",
    "        # new columns filtered\n",
    "        columns_filtered = columns[:column_index] + columns[column_index + 1:]\n",
    "\n",
    "        # extracting train and validation set with filtered columns based on importance \n",
    "        train, valid = split_data(features, targets, threshold = 12000, columns = columns_filtered)\n",
    "\n",
    "        # re-run model training\n",
    "        model, score = pred_model(train, valid, n_estimators = 25, min_samples_leaf = 4,\\\n",
    "                                  max_features = 0.5, oob_score = True)\n",
    "\n",
    "        return model.oob_score_\n",
    "    \n",
    "    return validator\n",
    "\n",
    "def extract_relevant_dependencies(features, clusters, threshold):\n",
    "    ''' helper function to remove feature dependencies by a threshold '''\n",
    "\n",
    "    # make copy\n",
    "    features_filtered = features.copy()\n",
    "\n",
    "    # extracting unnecessary clusters\n",
    "    clusters_filtered = clusters[clusters[:, 2] < threshold][:, :2].astype(dtype = \"int32\")\n",
    "    \n",
    "    # our validator\n",
    "    v = validate_dependency(features_filtered.columns.values.tolist())\n",
    "    \n",
    "    # extracting unnecessary dependencies(columns), only a singleton not both\n",
    "    columns_filtered = [ x[0] if v(x[0]) > v(x[1]) else x[1] for x in clusters_filtered ]\n",
    "\n",
    "    # discarding columns\n",
    "    features_filtered.drop(features_filtered.columns[list(columns_filtered)], inplace = True, axis = 1)\n",
    "    \n",
    "    return columns_filtered"
   ]
  },
  {
   "cell_type": "code",
   "execution_count": 183,
   "metadata": {},
   "outputs": [
    {
     "data": {
      "image/png": "[encoded data removed]",
      "text/plain": [
       "<Figure size 2016x1008 with 1 Axes>"
      ]
     },
     "metadata": {},
     "output_type": "display_data"
    }
   ],
   "source": [
    "clusters, features_filtered = generate_feature_dependencies(features, columns = feature_importances[\"columns\"])"
   ]
  },
  {
   "cell_type": "code",
   "execution_count": null,
   "metadata": {},
   "outputs": [],
   "source": [
    "columns_relevant = extract_relevant_dependencies(features_filtered, clusters, 0.02)"
   ]
  },
  {
   "cell_type": "code",
   "execution_count": 316,
   "metadata": {},
   "outputs": [
    {
     "name": "stdout",
     "output_type": "stream",
     "text": [
      "Relevant columns extracted from binary dependency: ProductGroupDesc, Grouser_Tracks, Hydraulics_Flow, fiModelDesc\n"
     ]
    }
   ],
   "source": [
    "print(\"Relevant columns extracted from binary dependency: \" +\\\n",
    "      \", \".join(features_filtered.columns[columns_relevant].tolist()))"
   ]
  },
  {
   "cell_type": "code",
   "execution_count": 230,
   "metadata": {},
   "outputs": [
    {
     "name": "stdout",
     "output_type": "stream",
     "text": [
      "Out-of-bag score - 0.9074289577301153\n",
      "Discarding unnecesary dependencies and re-running model training - 0.895674\n"
     ]
    }
   ],
   "source": [
    "# extracting train and validation set with filtered columns based on importance \n",
    "train_ff, valid_ff = split_data(features, targets, threshold = 12000, columns = columns_relevant)\n",
    "\n",
    "# re-run model training\n",
    "model_ff, score_ff = pred_model(train_ff, valid_ff, n_estimators = 40,\\\n",
    "                                min_samples_leaf = 6, max_features = 0.6, oob_score = True)\n",
    "\n",
    "print(f\"Discarding unnecesary dependencies and re-running model training - {round(score_ff, 6)}\")"
   ]
  }
 ],
 "metadata": {
  "kernelspec": {
   "display_name": "Python 3",
   "language": "python",
   "name": "python3"
  },
  "language_info": {
   "codemirror_mode": {
    "name": "ipython",
    "version": 3
   },
   "file_extension": ".py",
   "mimetype": "text/x-python",
   "name": "python",
   "nbconvert_exporter": "python",
   "pygments_lexer": "ipython3",
   "version": "3.6.5"
  }
 },
 "nbformat": 4,
 "nbformat_minor": 2
}
