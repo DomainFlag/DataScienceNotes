{
 "cells": [
  {
   "cell_type": "markdown",
   "metadata": {},
   "source": [
    "## Yet, simple but necessary"
   ]
  },
  {
   "cell_type": "code",
   "execution_count": 1,
   "metadata": {},
   "outputs": [],
   "source": [
    "import numpy as np\n",
    "import pandas as pd\n",
    "import matplotlib.pyplot as plt"
   ]
  },
  {
   "cell_type": "code",
   "execution_count": 2,
   "metadata": {},
   "outputs": [],
   "source": [
    "def predict(features, weights):\n",
    "    ''' our simple predictor function '''\n",
    "    \n",
    "    # bias\n",
    "    pred = weights[0]\n",
    "    \n",
    "    for index in range(1, len(weights)):\n",
    "        \n",
    "        # features being weighted\n",
    "        pred += features[index - 1] * weights[index]\n",
    "        \n",
    "    return pred"
   ]
  },
  {
   "cell_type": "code",
   "execution_count": 3,
   "metadata": {},
   "outputs": [],
   "source": [
    "# our minimalist and modest data set\n",
    "\n",
    "# features data\n",
    "train_features = np.array([[1], [2], [4], [3], [5]])\n",
    "\n",
    "# targets data to be predicted\n",
    "train_targets = np.array([1, 3, 3, 2, 5])"
   ]
  },
  {
   "cell_type": "code",
   "execution_count": 4,
   "metadata": {},
   "outputs": [
    {
     "name": "stdout",
     "output_type": "stream",
     "text": [
      "Predicted: 1.4\t actual: 1\n",
      "Predicted: 2.3\t actual: 3\n",
      "Predicted: 4.1\t actual: 3\n",
      "Predicted: 3.2\t actual: 2\n",
      "Predicted: 5.0\t actual: 5\n"
     ]
    }
   ],
   "source": [
    "# prediction being made\n",
    "for features, target in zip(train_features, train_targets):\n",
    "    \n",
    "    # perform actual prediction\n",
    "    pred = predict(features, [0.5, 0.9])\n",
    "    \n",
    "    # print predictions\n",
    "    print(f\"Predicted: {pred}\\t actual: {target}\")"
   ]
  },
  {
   "cell_type": "code",
   "execution_count": 5,
   "metadata": {},
   "outputs": [],
   "source": [
    "# epochs for model to be trained\n",
    "epochs = 100\n",
    "\n",
    "# learning rate\n",
    "learning_rate = 0.001"
   ]
  },
  {
   "cell_type": "code",
   "execution_count": 6,
   "metadata": {},
   "outputs": [],
   "source": [
    "def rmse(features, targets, weights):\n",
    "    ''' root mean square deviation '''\n",
    "    \n",
    "    # square predictions \n",
    "    predictions = np.array([ predict(row, weights) for row in features ])\n",
    "    \n",
    "    # square residuals \n",
    "    residuals = (predictions - np.array(targets)) ** 2\n",
    "    \n",
    "    return np.sqrt(np.mean(residuals))\n",
    "\n",
    "def linear_regression(features, targets, step = 10, verbose = True):\n",
    "    ''' our new regressor, a bit more intuitive '''\n",
    "    \n",
    "    # our weights\n",
    "    weights = np.zeros(features.shape[1] + 1)\n",
    "    \n",
    "    if(verbose):\n",
    "    \n",
    "        # plot the data\n",
    "        plt.plot(features, targets, 'o')\n",
    "    \n",
    "    for epoch in range(epochs):\n",
    "        \n",
    "        # loss accumulator\n",
    "        loss_acc = 0\n",
    "        \n",
    "        for index, row in enumerate(features):\n",
    "            \n",
    "            # error \n",
    "            loss = predict(row, weights) - targets[index]\n",
    "            \n",
    "            # update our bias weight\n",
    "            weights[0] -= loss * learning_rate\n",
    "        \n",
    "            for weight_index in range(1, len(weights)):\n",
    "\n",
    "                # update our weights\n",
    "                weights[weight_index] -= loss * learning_rate * row[weight_index - 1]\n",
    "                \n",
    "            # append to our accumulator\n",
    "            loss_acc += loss ** 2\n",
    "                \n",
    "        if(verbose and epoch % step == 0):\n",
    "            \n",
    "            # calculate root mean square deviation\n",
    "            loss = np.sqrt(loss_acc / len(targets))\n",
    "            \n",
    "            if(verbose):\n",
    "                \n",
    "                # update our regression line\n",
    "                plt.plot(features, np.array([ predict(row, weights) for row in features]), alpha = np.sqrt(epoch / epochs))\n",
    "\n",
    "            print(f\"Epoch: {epoch} with RMSE error: {loss}\")          \n",
    "            \n",
    "    if(verbose):\n",
    "        \n",
    "        # show plot\n",
    "        plt.show()\n",
    "                \n",
    "    return weights"
   ]
  },
  {
   "cell_type": "code",
   "execution_count": 7,
   "metadata": {},
   "outputs": [
    {
     "name": "stdout",
     "output_type": "stream",
     "text": [
      "Epoch: 0 with RMSE error: 3.040910792843641\n",
      "Epoch: 10 with RMSE error: 1.7723500148995839\n",
      "Epoch: 20 with RMSE error: 1.1367258271565475\n",
      "Epoch: 30 with RMSE error: 0.855779523346755\n",
      "Epoch: 40 with RMSE error: 0.7503144529140898\n",
      "Epoch: 50 with RMSE error: 0.7153647281213427\n",
      "Epoch: 60 with RMSE error: 0.704454971981995\n",
      "Epoch: 70 with RMSE error: 0.701112419240708\n",
      "Epoch: 80 with RMSE error: 0.7000793413697528\n",
      "Epoch: 90 with RMSE error: 0.6997416042356787\n"
     ]
    },
    {
     "data": {
      "image/png": "[encoded data removed]",
      "text/plain": [
       "<Figure size 432x288 with 1 Axes>"
      ]
     },
     "metadata": {},
     "output_type": "display_data"
    },
    {
     "name": "stdout",
     "output_type": "stream",
     "text": [
      "Final RMSE score: 0.6958677743804166\n"
     ]
    }
   ],
   "source": [
    "# training\n",
    "weights = linear_regression(train_features, train_targets, step = 10)\n",
    "\n",
    "# our score\n",
    "print(f\"Final RMSE score: {rmse(train_features, train_targets, weights)}\")"
   ]
  },
  {
   "cell_type": "code",
   "execution_count": 8,
   "metadata": {},
   "outputs": [],
   "source": [
    "# loading data\n",
    "raw = pd.read_csv(\"./data/winequality-white.csv\", low_memory = False, delimiter = ';')\n",
    "\n",
    "# fill all nan with zeros\n",
    "raw = raw.fillna(value = 0)"
   ]
  },
  {
   "cell_type": "code",
   "execution_count": 9,
   "metadata": {},
   "outputs": [
    {
     "data": {
      "text/html": [
       "<div>\n",
       "<style scoped>\n",
       "    .dataframe tbody tr th:only-of-type {\n",
       "        vertical-align: middle;\n",
       "    }\n",
       "\n",
       "    .dataframe tbody tr th {\n",
       "        vertical-align: top;\n",
       "    }\n",
       "\n",
       "    .dataframe thead th {\n",
       "        text-align: right;\n",
       "    }\n",
       "</style>\n",
       "<table border=\"1\" class=\"dataframe\">\n",
       "  <thead>\n",
       "    <tr style=\"text-align: right;\">\n",
       "      <th></th>\n",
       "      <th>fixed acidity</th>\n",
       "      <th>volatile acidity</th>\n",
       "      <th>citric acid</th>\n",
       "      <th>residual sugar</th>\n",
       "      <th>chlorides</th>\n",
       "      <th>free sulfur dioxide</th>\n",
       "      <th>total sulfur dioxide</th>\n",
       "      <th>density</th>\n",
       "      <th>pH</th>\n",
       "      <th>sulphates</th>\n",
       "      <th>alcohol</th>\n",
       "      <th>quality</th>\n",
       "    </tr>\n",
       "  </thead>\n",
       "  <tbody>\n",
       "    <tr>\n",
       "      <th>0</th>\n",
       "      <td>7.0</td>\n",
       "      <td>0.27</td>\n",
       "      <td>0.36</td>\n",
       "      <td>20.7</td>\n",
       "      <td>0.045</td>\n",
       "      <td>45.0</td>\n",
       "      <td>170.0</td>\n",
       "      <td>1.0010</td>\n",
       "      <td>3.00</td>\n",
       "      <td>0.45</td>\n",
       "      <td>8.8</td>\n",
       "      <td>6</td>\n",
       "    </tr>\n",
       "    <tr>\n",
       "      <th>1</th>\n",
       "      <td>6.3</td>\n",
       "      <td>0.30</td>\n",
       "      <td>0.34</td>\n",
       "      <td>1.6</td>\n",
       "      <td>0.049</td>\n",
       "      <td>14.0</td>\n",
       "      <td>132.0</td>\n",
       "      <td>0.9940</td>\n",
       "      <td>3.30</td>\n",
       "      <td>0.49</td>\n",
       "      <td>9.5</td>\n",
       "      <td>6</td>\n",
       "    </tr>\n",
       "    <tr>\n",
       "      <th>2</th>\n",
       "      <td>8.1</td>\n",
       "      <td>0.28</td>\n",
       "      <td>0.40</td>\n",
       "      <td>6.9</td>\n",
       "      <td>0.050</td>\n",
       "      <td>30.0</td>\n",
       "      <td>97.0</td>\n",
       "      <td>0.9951</td>\n",
       "      <td>3.26</td>\n",
       "      <td>0.44</td>\n",
       "      <td>10.1</td>\n",
       "      <td>6</td>\n",
       "    </tr>\n",
       "  </tbody>\n",
       "</table>\n",
       "</div>"
      ],
      "text/plain": [
       "   fixed acidity  volatile acidity  citric acid  residual sugar  chlorides  \\\n",
       "0            7.0              0.27         0.36            20.7      0.045   \n",
       "1            6.3              0.30         0.34             1.6      0.049   \n",
       "2            8.1              0.28         0.40             6.9      0.050   \n",
       "\n",
       "   free sulfur dioxide  total sulfur dioxide  density    pH  sulphates  \\\n",
       "0                 45.0                 170.0   1.0010  3.00       0.45   \n",
       "1                 14.0                 132.0   0.9940  3.30       0.49   \n",
       "2                 30.0                  97.0   0.9951  3.26       0.44   \n",
       "\n",
       "   alcohol  quality  \n",
       "0      8.8        6  \n",
       "1      9.5        6  \n",
       "2     10.1        6  "
      ]
     },
     "execution_count": 9,
     "metadata": {},
     "output_type": "execute_result"
    }
   ],
   "source": [
    "# data\n",
    "raw.head(3)"
   ]
  },
  {
   "cell_type": "code",
   "execution_count": 10,
   "metadata": {},
   "outputs": [],
   "source": [
    "def normalize(data_frame):\n",
    "    ''' normalize our dataset '''\n",
    "    \n",
    "    # data frame copy\n",
    "    raw_input = raw.copy()\n",
    "    \n",
    "    for attribute in data_frame.columns:\n",
    "        \n",
    "        # features on attribute/column axis\n",
    "        features = raw_input[attribute]\n",
    "        \n",
    "        # normalization\n",
    "        raw_input[attribute] = (features - np.mean(features)) / np.std(features)\n",
    "        \n",
    "    return raw_input\n",
    "\n",
    "def split_data(data_frame, target, k = 5):\n",
    "    ''' split data into k folds and convert to float dtype '''\n",
    "    \n",
    "    # copy of data frame\n",
    "    data = data_frame.copy()\n",
    "    \n",
    "    # get features and targets\n",
    "    features, targets = data.drop(target, axis = 1), data[target]\n",
    "\n",
    "    # features and targets, features with no index, both to float32 converted\n",
    "    data = [ features.reset_index(drop = True).values.astype('float32'), targets.values.astype('float32') ]\n",
    "    \n",
    "    # total size of each kth chunk\n",
    "    size = int(len(targets) / k)\n",
    "    \n",
    "    # folds containing features and targets\n",
    "    folds = ([], [])\n",
    "    \n",
    "    # build each fold\n",
    "    for k_fold in range(k):\n",
    "        \n",
    "        # update features and targets\n",
    "        for index in range(2):\n",
    "            \n",
    "            # update the corresponding fold\n",
    "            folds[index].append(data[index][k_fold * size : (k_fold + 1) * size])\n",
    "\n",
    "    return folds\n",
    "    \n",
    "def k_fold_cross_validation(data_frame, target, k = 5):\n",
    "    ''' perform k fold cross validation '''\n",
    "    \n",
    "    # split data into k folds \n",
    "    folds = split_data(data_frame, target, k)\n",
    "    \n",
    "    # current score\n",
    "    score = 0\n",
    "    \n",
    "    for index in range(k):\n",
    "\n",
    "        # our targets join of remaning k-1 folds\n",
    "        targets = np.concatenate([ folds[1][i] for i in range(k) if i != index ], axis = 0)\n",
    "        \n",
    "        # features join of remaning k-1 folds\n",
    "        features = np.concatenate([ folds[0][i] for i in range(k) if i != index ], axis = 0)\n",
    "        \n",
    "        # weights of the model trained on k-1 folds\n",
    "        weights = linear_regression(features, targets, verbose = False)\n",
    "        \n",
    "        # updating our score with rmse of the model on kth fold\n",
    "        score += rmse(folds[0][index], folds[1][index], weights)\n",
    "              \n",
    "    return score / k"
   ]
  },
  {
   "cell_type": "code",
   "execution_count": 11,
   "metadata": {},
   "outputs": [],
   "source": [
    "def baseline(data, target, k = 5):\n",
    "    ''' our baseline to validate our score, in our case is sd '''\n",
    "    \n",
    "    # size of chunk\n",
    "    size = int(len(data) / k)\n",
    "    \n",
    "    # targets kth chunk\n",
    "    targets = data[target].loc[:size].reset_index(drop = True).values.astype('float32')\n",
    "    \n",
    "    # mean of k-1 chunks\n",
    "    mean = np.mean(data[target].loc[size:].reset_index(drop = True).values.astype('float32'))\n",
    "    \n",
    "    return np.sqrt(np.mean((targets - [ mean for i in range(len(targets)) ]) ** 2))"
   ]
  },
  {
   "cell_type": "code",
   "execution_count": 12,
   "metadata": {},
   "outputs": [
    {
     "name": "stdout",
     "output_type": "stream",
     "text": [
      "Our rmse score: 0.8692746085304577 against baseline score 1.0547208786010742\n"
     ]
    }
   ],
   "source": [
    "# normalize dataset\n",
    "training = normalize(raw)\n",
    "\n",
    "# perform k fold cross validation\n",
    "score = k_fold_cross_validation(training, \"quality\", 5)\n",
    "\n",
    "# our baseline score \n",
    "baseline_score = baseline(training, \"quality\", k = 5)\n",
    "\n",
    "print(f\"Our rmse score: {score} against baseline score {baseline_score}\")"
   ]
  }
 ],
 "metadata": {
  "kernelspec": {
   "display_name": "Python 3",
   "language": "python",
   "name": "python3"
  },
  "language_info": {
   "codemirror_mode": {
    "name": "ipython",
    "version": 3
   },
   "file_extension": ".py",
   "mimetype": "text/x-python",
   "name": "python",
   "nbconvert_exporter": "python",
   "pygments_lexer": "ipython3",
   "version": "3.6.5"
  }
 },
 "nbformat": 4,
 "nbformat_minor": 2
}
