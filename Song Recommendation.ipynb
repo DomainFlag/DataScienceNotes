{
 "cells": [
  {
   "cell_type": "markdown",
   "metadata": {},
   "source": [
    "## Song recommendation with colaborative filtering for recommendation"
   ]
  },
  {
   "cell_type": "markdown",
   "metadata": {},
   "source": [
    "Imporing all the necessary libraries and loading the data"
   ]
  },
  {
   "cell_type": "code",
   "execution_count": 2,
   "metadata": {},
   "outputs": [],
   "source": [
    "import numpy as np\n",
    "\n",
    "# Songs: Luis Fonsi - Despacito ft. Daddy Yankee; Gorillaz - Feel Good; U2 - One; Milky Chance - Stolen Dance;\n",
    "# Major Lazer & DJ Snake - Lean On; Foo Fighters - Everlong; Coldplay - Viva la Vida .\n",
    "P = [\n",
    "    [0,  0, -1,  0, -1,  1,  1], # User 1\n",
    "    [-1, 1,  1, -1,  0,  1,  1], # User 2\n",
    "    [0,  1,  1,  0,  0, -1,  1], # User 3\n",
    "    [-1, 1,  1,  0,  0,  1,  1], # User 4\n",
    "    [0,  1,  1,  0,  0,  1,  1], # User 5\n",
    "    [1, -1,  1,  1,  1, -1,  0], # User 6\n",
    "    [-1, 1, -1,  0, -1,  0,  1], # User 7\n",
    "    [0, -1,  0,  1,  1, -1, -1], # User 8\n",
    "    [0,  0, -1,  1,  1,  0, -1]  # User 9\n",
    "]"
   ]
  },
  {
   "cell_type": "code",
   "execution_count": 3,
   "metadata": {},
   "outputs": [
    {
     "name": "stdout",
     "output_type": "stream",
     "text": [
      "Alternating Ridge Regression:\n",
      "[[-0.47047911  0.42881358 -0.92322651 -0.40431668 -0.82818493  0.71377095\n",
      "   0.35042332]\n",
      " [-0.57771727  1.11906181  0.94589704 -0.61386046 -0.41293492  0.72761603\n",
      "   1.24992319]\n",
      " [-0.0832934   0.47515086  1.237768   -0.15067544  0.26037089  0.02607153\n",
      "   0.61430677]\n",
      " [-0.47973313  0.97615801  0.95005937 -0.51903706 -0.29509201  0.59242729\n",
      "   1.10280049]\n",
      " [-0.37594016  0.83720279  0.99806105 -0.42105292 -0.15760122  0.44610391\n",
      "   0.96413724]\n",
      " [ 0.67254818 -0.68837737  1.05514838  0.59290532  1.10703237 -1.0013938\n",
      "  -0.60521719]\n",
      " [-0.56690391  0.63195565 -0.70791877 -0.51001588 -0.88042517  0.83110411\n",
      "   0.58167939]\n",
      " [ 0.65941678 -0.96038615  0.03268812  0.63788156  0.79442125 -0.91013218\n",
      "  -0.98826789]\n",
      " [ 0.3261365  -0.67760331 -0.69495415  0.35562669  0.18635759 -0.39923655\n",
      "  -0.76905842]]\n",
      "\n",
      "\n"
     ]
    }
   ],
   "source": [
    "P = np.array(P)\n",
    "\n",
    "# Parameters\n",
    "reg = 0.1 # regularization parameter\n",
    "f = 2 # number of factors\n",
    "m, n = P.shape # where m = 9 and n = 7\n",
    "\n",
    "\n",
    "# Random Initialization with random features\n",
    "# X is (m x f) 9 x 2\n",
    "# Y is (f x n) 2 x 7\n",
    "X = 1 - 2 * np.random.rand(m, f)\n",
    "Y = 1 - 2 * np.random.rand(f, n)\n",
    "X *= 0.1\n",
    "Y *= 0.1\n",
    "\n",
    "\n",
    "# Alternating Ridge Regression\n",
    "for _ in range(100):\n",
    "    # Least-squares keeping Y fixed\n",
    "    \n",
    "    X = np.linalg.solve(\n",
    "        np.dot(Y, Y.T) + reg * np.eye(f),\n",
    "        np.dot(Y, P.T)\n",
    "    ).T\n",
    "    \n",
    "    # Least-squares keeping X fixed\n",
    "    Y = np.linalg.solve(\n",
    "        np.dot(X.T, X) + reg * np.eye(f),\n",
    "        np.dot(X.T, P)\n",
    "    )\n",
    "    \n",
    "print(\"Alternating Ridge Regression:\")\n",
    "print(np.dot(X, Y))\n",
    "print(\"\\n\")"
   ]
  },
  {
   "cell_type": "code",
   "execution_count": 7,
   "metadata": {},
   "outputs": [
    {
     "name": "stdout",
     "output_type": "stream",
     "text": [
      "Alternating Weighted Ridge Regression:\n",
      "[[-0.87859229  0.75590936 -0.84723563 -0.90527377 -0.91301409  1.22456659\n",
      "   0.77033933]\n",
      " [-0.96652919  1.12037758  0.83860292 -1.006266   -1.00817832  0.72382711\n",
      "   1.10750305]\n",
      " [-0.32540386  0.55731589  1.38658534 -0.34525861 -0.34178468 -0.14502858\n",
      "   0.53505233]\n",
      " [-0.96804632  1.12193896  0.83870996 -1.00783842 -1.00975825  0.72538898\n",
      "   1.10906385]\n",
      " [-0.95828894  1.11192878  0.83821617 -0.99772664 -0.99959744  0.71527537\n",
      "   1.0990542 ]\n",
      " [ 0.92243551 -0.80265171  0.83420692  0.95077283  0.95869316 -1.26620512\n",
      "  -0.81690378]\n",
      " [-1.0270414   0.89416707 -0.92578394 -1.05860995 -1.06741719  1.40873074\n",
      "   0.90998625]\n",
      " [ 0.95137069 -0.98077311 -0.07729113  0.98609632  0.99076854 -0.97584417\n",
      "  -0.98024791]\n",
      " [ 0.89692883 -1.06910883 -0.95852321  0.93486169  0.93596393 -0.60823117\n",
      "  -1.05423384]]\n"
     ]
    }
   ],
   "source": [
    "# Re-initialize\n",
    "X = 1 - 2 * np.random.rand(m, f)\n",
    "Y = 1 - 2 * np.random.rand(f, n)\n",
    "X *= 0.1\n",
    "Y *= 0.1\n",
    "\n",
    "\n",
    "# Alternating Weighted Ridge Regression\n",
    "C = np.abs(P) # Will be 0 only when P[i,j] == 0.\n",
    "\n",
    "for _ in range(100):\n",
    "    \n",
    "    # Each user u has a different set of weights Cu\n",
    "    for u, Cu in enumerate(C):\n",
    "        idCu = np.diag(Cu)\n",
    "        \n",
    "#         X[u] = np.dot(\n",
    "#             np.linalg.inv(np.dot(np.dot(Y, idCu), Y.T) + np.eye(f) * reg),\n",
    "#             np.dot(np.dot(Y, idCu), Cu)\n",
    "#         )\n",
    "        \n",
    "        X[u] = np.linalg.solve(\n",
    "            np.dot(np.dot(Y, idCu), Y.T) +  np.eye(f) * reg,\n",
    "            np.dot(np.dot(Y, idCu), P[u])\n",
    "        ).T\n",
    "    \n",
    "        \n",
    "    for i, Ci in enumerate(C.T):\n",
    "        idCi = np.diag(Ci)\n",
    "        \n",
    "#         Y[:, i] = np.dot(\n",
    "#             np.linalg.inv(np.dot(np.dot(X.T, idCi), X) + np.eye(f) * reg),\n",
    "#             np.dot(np.dot(X.T, idCi), Ci)\n",
    "#         )\n",
    "\n",
    "        Y[:, i] = np.linalg.solve(\n",
    "            np.dot(np.dot(X.T, idCi), X) + np.eye(f) * reg,\n",
    "            np.dot(np.dot(X.T, idCi), P[:, i])\n",
    "        )\n",
    "        \n",
    "print(\"Alternating Weighted Ridge Regression:\")\n",
    "print(np.dot(X, Y))"
   ]
  },
  {
   "cell_type": "code",
   "execution_count": null,
   "metadata": {},
   "outputs": [],
   "source": []
  }
 ],
 "metadata": {
  "kernelspec": {
   "display_name": "Python 3",
   "language": "python",
   "name": "python3"
  },
  "language_info": {
   "codemirror_mode": {
    "name": "ipython",
    "version": 3
   },
   "file_extension": ".py",
   "mimetype": "text/x-python",
   "name": "python",
   "nbconvert_exporter": "python",
   "pygments_lexer": "ipython3",
   "version": "3.6.5"
  }
 },
 "nbformat": 4,
 "nbformat_minor": 2
}
