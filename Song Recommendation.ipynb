{
 "cells": [
  {
   "cell_type": "markdown",
   "metadata": {},
   "source": [
    "## Song recommendation with colaborative filtering for recommendation"
   ]
  },
  {
   "cell_type": "markdown",
   "metadata": {},
   "source": [
    "Imporing all the necessary libraries and loading the data"
   ]
  },
  {
   "cell_type": "code",
   "execution_count": 1,
   "metadata": {},
   "outputs": [],
   "source": [
    "import numpy as np\n",
    "\n",
    "# Songs: Luis Fonsi - Despacito ft. Daddy Yankee; Gorillaz - Feel Good; U2 - One; Milky Chance - Stolen Dance;\n",
    "# Major Lazer & DJ Snake - Lean On; Foo Fighters - Everlong; Coldplay - Viva la Vida .\n",
    "P = [\n",
    "    [0,  0, -1,  0, -1,  1,  1], # User 1\n",
    "    [-1, 1,  1, -1,  0,  1,  1], # User 2\n",
    "    [0,  1,  1,  0,  0, -1,  1], # User 3\n",
    "    [-1, 1,  1,  0,  0,  1,  1], # User 4\n",
    "    [0,  1,  1,  0,  0,  1,  1], # User 5\n",
    "    [1, -1,  1,  1,  1, -1,  0], # User 6\n",
    "    [-1, 1, -1,  0, -1,  0,  1], # User 7\n",
    "    [0, -1,  0,  1,  1, -1, -1], # User 8\n",
    "    [0,  0, -1,  1,  1,  0, -1]  # User 9\n",
    "]"
   ]
  },
  {
   "cell_type": "code",
   "execution_count": 41,
   "metadata": {},
   "outputs": [
    {
     "name": "stdout",
     "output_type": "stream",
     "text": [
      "Alternating Ridge Regression:\n",
      "[[-0.47047985  0.42881477 -0.92322615 -0.40431741 -0.82818571  0.71377194\n",
      "   0.35042458]\n",
      " [-0.57771877  1.11906422  0.94589778 -0.61386196 -0.41293649  0.72761804\n",
      "   1.24992575]\n",
      " [-0.08329393  0.47515171  1.23776826 -0.15067597  0.26037033  0.02607224\n",
      "   0.61430767]\n",
      " [-0.47973442  0.97616009  0.95006    -0.51903835 -0.29509336  0.59242902\n",
      "   1.1028027 ]\n",
      " [-0.37594125  0.83720453  0.99806158 -0.421054   -0.15760235  0.44610536\n",
      "   0.96413909]\n",
      " [ 0.67254931 -0.68837919  1.05514783  0.59290645  1.10703356 -1.00139532\n",
      "  -0.60521913]\n",
      " [-0.56690492  0.63195727 -0.70791827 -0.51001689 -0.88042623  0.83110546\n",
      "   0.58168111]\n",
      " [ 0.65941818 -0.96038839  0.03268744  0.63788295  0.79442271 -0.91013405\n",
      "  -0.98827027]\n",
      " [ 0.32613739 -0.67760475 -0.69495459  0.35562758  0.18635852 -0.39923774\n",
      "  -0.76905994]]\n",
      "\n",
      "\n"
     ]
    }
   ],
   "source": [
    "P = np.array(P)\n",
    "\n",
    "# Parameters\n",
    "reg = 0.1 # regularization parameter\n",
    "f = 2 # number of factors\n",
    "m, n = P.shape # where m = 9 and n = 7\n",
    "\n",
    "\n",
    "# Random Initialization with random features\n",
    "# X is (m x f) 9 x 2\n",
    "# Y is (f x n) 2 x 7\n",
    "X = 1 - 2 * np.random.rand(m, f)\n",
    "Y = 1 - 2 * np.random.rand(f, n)\n",
    "X *= 0.1\n",
    "Y *= 0.1\n",
    "\n",
    "\n",
    "# Alternating Ridge Regression\n",
    "for _ in range(100):\n",
    "    # Least-squares keeping Y fixed\n",
    "    \n",
    "    X = np.linalg.solve(\n",
    "        np.dot(Y, Y.T) + reg * np.eye(f),\n",
    "        np.dot(Y, P.T)\n",
    "    ).T\n",
    "    \n",
    "    # Least-squares keeping X fixed\n",
    "    Y = np.linalg.solve(\n",
    "        np.dot(X.T, X) + reg * np.eye(f),\n",
    "        np.dot(X.T, P)\n",
    "    )\n",
    "    \n",
    "print(\"Alternating Ridge Regression:\")\n",
    "print(np.dot(X, Y))\n",
    "print(\"\\n\")"
   ]
  },
  {
   "cell_type": "code",
   "execution_count": 55,
   "metadata": {},
   "outputs": [
    {
     "name": "stdout",
     "output_type": "stream",
     "text": [
      "Alternating Weighted Ridge Regression:\n",
      "[[-0.87859157  0.75590862 -0.84723565 -0.9052726  -0.91301381  1.2245658\n",
      "   0.77033843]\n",
      " [-0.96652745  1.12037653  0.83860296 -1.00626391 -1.00817478  0.72382618\n",
      "   1.1075019 ]\n",
      " [-0.32540271  0.55731539  1.38658532 -0.34525743 -0.34178149 -0.14502888\n",
      "   0.53505186]\n",
      " [-0.96804464  1.12193796  0.83871001 -1.00783639 -1.00975477  0.72538811\n",
      "   1.10906276]\n",
      " [-0.95828745  1.11192798  0.83821624 -0.99772481 -0.99959416  0.71527469\n",
      "   1.09905331]\n",
      " [ 0.92243432 -0.8026505   0.83420703  0.95077115  0.95869234 -1.2662039\n",
      "  -0.81690239]\n",
      " [-1.0270403   0.89416593 -0.92578425 -1.05860831 -1.0674165   1.40872969\n",
      "   0.90998492]\n",
      " [ 0.95136941 -0.98077232 -0.07729184  0.98609464  0.99076645 -0.97584307\n",
      "  -0.98024698]\n",
      " [ 0.89692861 -1.06910924 -0.95852262  0.93486121  0.93596186 -0.60823209\n",
      "  -1.05423418]]\n"
     ]
    }
   ],
   "source": [
    "# Re-initialize\n",
    "X = 1 - 2 * np.random.rand(m, f)\n",
    "Y = 1 - 2 * np.random.rand(f, n)\n",
    "X *= 0.1\n",
    "Y *= 0.1\n",
    "\n",
    "\n",
    "# Alternating Weighted Ridge Regression\n",
    "C = np.abs(P) # Will be 0 only when P[i,j] == 0.\n",
    "\n",
    "for _ in range(100):\n",
    "    \n",
    "    # Each user u has a different set of weights Cu\n",
    "    for u, Cu in enumerate(C):\n",
    "        idCu = np.diag(Cu)\n",
    "        \n",
    "#         X[u] = np.dot(\n",
    "#             np.linalg.inv(np.dot(np.dot(Y, idCu), Y.T) + np.eye(f) * reg),\n",
    "#             np.dot(np.dot(Y, idCu), Cu)\n",
    "#         )\n",
    "        \n",
    "        X[u] = np.linalg.solve(\n",
    "            np.dot(np.dot(Y, idCu), Y.T) +  np.eye(f) * reg,\n",
    "            np.dot(np.dot(Y, idCu), P[u])\n",
    "        ).T\n",
    "        \n",
    "    for i, Ci in enumerate(C.T):\n",
    "        idCi = np.diag(Ci)\n",
    "        \n",
    "#         Y[:, i] = np.dot(\n",
    "#             np.linalg.inv(np.dot(np.dot(X.T, idCi), X) + np.eye(f) * reg),\n",
    "#             np.dot(np.dot(X.T, idCi), Ci)\n",
    "#         )\n",
    "\n",
    "        Y[:, i] = np.linalg.solve(\n",
    "            np.dot(np.dot(X.T, idCi), X) + np.eye(f) * reg,\n",
    "            np.dot(np.dot(X.T, idCi), P[:, i])\n",
    "        )\n",
    "        \n",
    "print(\"Alternating Weighted Ridge Regression:\")\n",
    "print(np.dot(X, Y))"
   ]
  },
  {
   "cell_type": "code",
   "execution_count": null,
   "metadata": {},
   "outputs": [],
   "source": []
  }
 ],
 "metadata": {
  "kernelspec": {
   "display_name": "Python 3",
   "language": "python",
   "name": "python3"
  },
  "language_info": {
   "codemirror_mode": {
    "name": "ipython",
    "version": 3
   },
   "file_extension": ".py",
   "mimetype": "text/x-python",
   "name": "python",
   "nbconvert_exporter": "python",
   "pygments_lexer": "ipython3",
   "version": "3.6.5"
  }
 },
 "nbformat": 4,
 "nbformat_minor": 2
}
