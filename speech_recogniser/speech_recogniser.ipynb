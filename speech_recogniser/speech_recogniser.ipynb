{
 "cells": [
  {
   "cell_type": "markdown",
   "metadata": {
    "colab_type": "text",
    "id": "GpWksiUDtXzp"
   },
   "source": [
    "### Importing necessary packages"
   ]
  },
  {
   "cell_type": "code",
   "execution_count": null,
   "metadata": {
    "colab": {
     "base_uri": "https://localhost:8080/",
     "height": 125
    },
    "colab_type": "code",
    "executionInfo": {
     "elapsed": 51394,
     "status": "ok",
     "timestamp": 1551480098486,
     "user": {
      "displayName": "Cristian Chivriga",
      "photoUrl": "",
      "userId": "12583023746426163942"
     },
     "user_tz": -60
    },
    "id": "7NuoHM5jtXzr",
    "outputId": "88f8c8ca-192f-4371-da7d-e5b291051152"
   },
   "outputs": [],
   "source": [
    "# training and testing if made on google colaboratory\n",
    "from google.colab import drive\n",
    "\n",
    "drive.mount('/content/drive')"
   ]
  },
  {
   "cell_type": "code",
   "execution_count": 2,
   "metadata": {
    "colab": {
     "base_uri": "https://localhost:8080/",
     "height": 263
    },
    "colab_type": "code",
    "executionInfo": {
     "elapsed": 13589,
     "status": "ok",
     "timestamp": 1551480188172,
     "user": {
      "displayName": "Cristian Chivriga",
      "photoUrl": "",
      "userId": "12583023746426163942"
     },
     "user_tz": -60
    },
    "id": "ZKlqI29R_W2w",
    "outputId": "eb984ebb-7897-4ee3-e8e2-c855d73c6a1c"
   },
   "outputs": [
    {
     "name": "stdout",
     "output_type": "stream",
     "text": [
      "Collecting pydub\n",
      "  Downloading https://files.pythonhosted.org/packages/79/db/eaf620b73a1eec3c8c6f8f5b0b236a50f9da88ad57802154b7ba7664d0b8/pydub-0.23.1-py2.py3-none-any.whl\n",
      "Installing collected packages: pydub\n",
      "Successfully installed pydub-0.23.1\n",
      "Collecting python-Levenshtein\n",
      "\u001b[?25l  Downloading https://files.pythonhosted.org/packages/42/a9/d1785c85ebf9b7dfacd08938dd028209c34a0ea3b1bcdb895208bd40a67d/python-Levenshtein-0.12.0.tar.gz (48kB)\n",
      "\u001b[K    100% |████████████████████████████████| 51kB 4.1MB/s \n",
      "\u001b[?25hRequirement already satisfied: setuptools in /usr/local/lib/python3.6/dist-packages (from python-Levenshtein) (40.8.0)\n",
      "Building wheels for collected packages: python-Levenshtein\n",
      "  Building wheel for python-Levenshtein (setup.py) ... \u001b[?25ldone\n",
      "\u001b[?25h  Stored in directory: /root/.cache/pip/wheels/de/c2/93/660fd5f7559049268ad2dc6d81c4e39e9e36518766eaf7e342\n",
      "Successfully built python-Levenshtein\n",
      "Installing collected packages: python-Levenshtein\n",
      "Successfully installed python-Levenshtein-0.12.0\n"
     ]
    }
   ],
   "source": [
    "# !pip install pydub\n",
    "# !pip install python-Levenshtein"
   ]
  },
  {
   "cell_type": "code",
   "execution_count": 0,
   "metadata": {
    "colab": {},
    "colab_type": "code",
    "id": "RMFMB4SOtXzz"
   },
   "outputs": [],
   "source": [
    "# necessary imports\n",
    "import os\n",
    "import torch\n",
    "import torch.optim as optim\n",
    "import numpy as np\n",
    "import matplotlib.pyplot as plt\n",
    "import torch.nn as nn\n",
    "import torch.nn.functional as F\n",
    "import cv2\n",
    "\n",
    "from collections import OrderedDict\n",
    "from pydub import AudioSegment\n",
    "from scipy import signal\n",
    "from Levenshtein import distance\n",
    "from PIL import Image\n",
    "from tqdm import tqdm_notebook\n",
    "from torch.utils.data import Dataset, DataLoader, TensorDataset"
   ]
  },
  {
   "cell_type": "markdown",
   "metadata": {
    "colab_type": "text",
    "id": "66cE5IKDtXz4"
   },
   "source": [
    "### Loading data"
   ]
  },
  {
   "cell_type": "code",
   "execution_count": 0,
   "metadata": {
    "colab": {},
    "colab_type": "code",
    "id": "bFfV-F81tXz5"
   },
   "outputs": [],
   "source": [
    "# root path if remote\n",
    "root_path = '/content/drive/My Drive/speech_recogniser/'"
   ]
  },
  {
   "cell_type": "code",
   "execution_count": 0,
   "metadata": {
    "colab": {},
    "colab_type": "code",
    "id": "3eoXP9U3tXz9"
   },
   "outputs": [],
   "source": [
    "# # root path if local\n",
    "# root_path = './'"
   ]
  },
  {
   "cell_type": "code",
   "execution_count": 0,
   "metadata": {
    "colab": {},
    "colab_type": "code",
    "id": "L10kavP6tX0A"
   },
   "outputs": [],
   "source": [
    "data_dir = root_path + 'data/'\n",
    "model_dir = root_path + \"models/\"\n",
    "\n",
    "train_dir = data_dir + 'train'\n",
    "valid_dir = data_dir + 'valid'"
   ]
  },
  {
   "cell_type": "code",
   "execution_count": 0,
   "metadata": {
    "colab": {},
    "colab_type": "code",
    "id": "MKYmRiCctX0E"
   },
   "outputs": [],
   "source": [
    "# helper function to resolve a file transcription\n",
    "def resolve_transcription(files, transcription, relative_path = \"./\"):\n",
    "    # our transcriptions\n",
    "    transcriptions = []\n",
    "    \n",
    "    with open(relative_path + transcription, \"r\") as trans_file:\n",
    "        # looping through each line from transcription\n",
    "        for line in trans_file:\n",
    "            # perform a single split, first match - audio source, second match - targets(text)\n",
    "            match = line.split(\" \", 1)\n",
    "            \n",
    "            # expecting two elements and filter out long seq\n",
    "            if(len(match) == 2):\n",
    "                \n",
    "                # our audio source with full name\n",
    "                audio_source = match[0] + \".flac\"\n",
    "\n",
    "                # expecting the audio source to be present\n",
    "                if(audio_source not in files):\n",
    "                    pass\n",
    "\n",
    "                # append to our transcriptions\n",
    "                transcriptions.append({\n",
    "                    \"targets\" : match[1][:-1],\n",
    "                    \"audio\" : relative_path + audio_source,\n",
    "                    \"image\" : relative_path + match[0] + \".png\"\n",
    "                })\n",
    "                    \n",
    "    return transcriptions    \n",
    "\n",
    "# helper function to retrieve the paths\n",
    "def resolve_data(dir_path):\n",
    "    dirs = os.listdir(dir_path)\n",
    "\n",
    "    transcriptions = []\n",
    "    \n",
    "    for directory in dirs:\n",
    "        for sub_dir in os.listdir(dir_path + \"/\" + directory):\n",
    "            # current directory\n",
    "            curr_dir = dir_path + \"/\" + directory + \"/\" + sub_dir + \"/\"\n",
    "            \n",
    "            # files including images, audio files and text\n",
    "            files = os.listdir(curr_dir)\n",
    "            \n",
    "            # filtering files by text\n",
    "            files_text = [ file for file in files if file.endswith(\".txt\") ]\n",
    "            \n",
    "            # only one single transcription per directory source\n",
    "            if(len(files_text) == 1):\n",
    "                # our transcription to be resolved(link between the actual text and the audio source and image if exists)\n",
    "                transcription = files_text[0]\n",
    "                \n",
    "                # resolved transcription with audio source and spectrogram(image path)\n",
    "                resolved_transcription = resolve_transcription(files, transcription, relative_path = curr_dir)\n",
    "                \n",
    "                # concatenate with our raw list\n",
    "                transcriptions += resolved_transcription\n",
    "\n",
    "    return transcriptions"
   ]
  },
  {
   "cell_type": "code",
   "execution_count": 0,
   "metadata": {
    "colab": {},
    "colab_type": "code",
    "id": "y5kQa6c-tX0K"
   },
   "outputs": [],
   "source": [
    "# data types\n",
    "data_types = {\"train\" : train_dir, \"valid\" : valid_dir}\n",
    "\n",
    "# transcriptions holder\n",
    "transcriptions = {data_type : resolve_data(data_dir) for data_type, data_dir in data_types.items()}"
   ]
  },
  {
   "cell_type": "code",
   "execution_count": 0,
   "metadata": {
    "colab": {},
    "colab_type": "code",
    "id": "xinUyXKdtX0P"
   },
   "outputs": [],
   "source": [
    "# default sampling rate\n",
    "sampling_rate = 16000\n",
    "\n",
    "# sampling chunk length\n",
    "nfft = 320\n",
    "\n",
    "# sampling length to be padded\n",
    "sampling_pad = sampling_rate / nfft\n",
    "\n",
    "# helper function to resolve an audio source file to spectrogram\n",
    "def resolve_image_source(transcription, rewrite = False, interactive = False):\n",
    "    # image source\n",
    "    image_source = transcription[\"image\"]\n",
    "    \n",
    "    # rewrite turned off and image source exists then show only\n",
    "    image_save = not (not rewrite and os.path.isfile(image_source))\n",
    "    \n",
    "    # if not interactive and no rewriting is required then finish\n",
    "    if(not (image_save or interactive)):\n",
    "        return\n",
    "    \n",
    "    # audio source\n",
    "    audio_source = transcription[\"audio\"]\n",
    "    \n",
    "    if(audio_source.endswith((\".flac\", \".wav\"))):\n",
    "        raw = AudioSegment.from_file(audio_source)\n",
    "    else: \n",
    "        raw = AudioSegment.from_mp3(audio_source)\n",
    "\n",
    "    # single channel\n",
    "    raw = raw.set_channels(1)\n",
    "    \n",
    "    # downsampling the audio source\n",
    "    # raw = raw.set_frame_rate(sampling_rate)\n",
    "\n",
    "    # retrieving data\n",
    "    data = raw.get_array_of_samples()\n",
    "    \n",
    "    # data to numpy array\n",
    "    data = np.array(data)\n",
    "    \n",
    "    # sample frequencies, segment times, frequencies domain output where nfft 320 => 16000 / 320 = 50 => 20ms chunk\n",
    "    f, t, Sxx = signal.spectrogram(data, raw.frame_rate, nfft = nfft, nperseg = nfft, noverlap = 0)\n",
    "    \n",
    "    # dimensions\n",
    "    row, col = Sxx.shape[0], Sxx.shape[1]\n",
    "\n",
    "    # normalizing dimensions\n",
    "    row, col = 1.0, (col / row)\n",
    "    \n",
    "    # dpi to match the file size\n",
    "    fig = plt.figure(figsize = (col, row), dpi = Sxx.shape[0])\n",
    "    fig.subplots_adjust(0, 0, 1, 1)\n",
    "\n",
    "    plt.set_cmap(\"gray\")\n",
    "    \n",
    "    ax = fig.add_subplot(1, 1, 1, frameon = False)\n",
    "    ax.pcolormesh(t, f, 10 * np.log10(Sxx + 0.000001))\n",
    "    ax.axes.get_xaxis().set_visible(False)\n",
    "    ax.axes.get_yaxis().set_visible(False)\n",
    "\n",
    "    if(image_save):\n",
    "        plt.savefig(image_source)\n",
    "    \n",
    "    # don't show figure if not interactive\n",
    "    if(not interactive):\n",
    "        plt.close(fig)\n",
    "\n",
    "# helper function to clean the generated spectrogram\n",
    "def clean_image_source(transcription):\n",
    "    # image source\n",
    "    image_source = transcription[\"image\"]\n",
    "    \n",
    "    # check if image source exists\n",
    "    if(os.path.isfile(image_source) and not os.path.isdir(image_source)):\n",
    "        os.remove(image_source)\n",
    "        \n",
    "# helper function to resolve all audio sources file to spectrograms\n",
    "def resolve_transcription_images(transcriptions, rewrite = True, clean = False):\n",
    "    \n",
    "    # interactive mode turned off\n",
    "    plt.ioff()\n",
    "    \n",
    "    for transcription in transcriptions:\n",
    "        \n",
    "        # clean all\n",
    "        if(clean):\n",
    "            clean_image_source(transcription)\n",
    "            \n",
    "        resolve_image_source(transcription, rewrite, interactive = False)\n",
    "        \n",
    "    # interactive mode turned on for default behaviour\n",
    "    plt.ion()"
   ]
  },
  {
   "cell_type": "code",
   "execution_count": 9,
   "metadata": {
    "colab": {
     "base_uri": "https://localhost:8080/",
     "height": 210
    },
    "colab_type": "code",
    "executionInfo": {
     "elapsed": 470219,
     "status": "ok",
     "timestamp": 1551480702777,
     "user": {
      "displayName": "Cristian Chivriga",
      "photoUrl": "",
      "userId": "12583023746426163942"
     },
     "user_tz": -60
    },
    "id": "osMZ0E6vtX0S",
    "outputId": "08a54e81-9793-4c25-824e-1eb17e27ab14"
   },
   "outputs": [
    {
     "data": {
      "image/png": "[encoded data removed]",
      "text/plain": [
       "<Figure size 738x161 with 1 Axes>"
      ]
     },
     "metadata": {
      "tags": []
     },
     "output_type": "display_data"
    }
   ],
   "source": [
    "resolve_image_source(transcriptions[\"train\"][0], rewrite = False, interactive = True)"
   ]
  },
  {
   "cell_type": "markdown",
   "metadata": {
    "colab_type": "text",
    "id": "pNl06WdAtX0e"
   },
   "source": [
    "Generating for each audio source and image representing the spectrogram related to the audio source"
   ]
  },
  {
   "cell_type": "code",
   "execution_count": 0,
   "metadata": {
    "colab": {},
    "colab_type": "code",
    "id": "V-fuCP-CtX0g"
   },
   "outputs": [],
   "source": [
    "for key, value in transcriptions.items():\n",
    "    resolve_transcription_images(transcriptions[key], rewrite = False)"
   ]
  },
  {
   "cell_type": "markdown",
   "metadata": {
    "colab_type": "text",
    "id": "Bh8kiypUtX0l"
   },
   "source": [
    "#### Finding the normalization parameters and adjusting the data accordingly"
   ]
  },
  {
   "cell_type": "code",
   "execution_count": 0,
   "metadata": {
    "colab": {},
    "colab_type": "code",
    "id": "pD2aG4kntX0v"
   },
   "outputs": [],
   "source": [
    "# helper function to generate image source, single channel image to be assumed and maximum dimensions in order to pad properly\n",
    "def generate_image_source(img = None, transcription = None):\n",
    "    \n",
    "    # image size\n",
    "    img_size = None\n",
    "    \n",
    "    if(transcription is None and img is None):\n",
    "        raise Exception(\"Illegal arguments provided\")\n",
    "    \n",
    "    if(transcription is not None):\n",
    "        \n",
    "        try:\n",
    "            \n",
    "            # file to be opened\n",
    "            file = open(transcription[\"image\"], 'rb')\n",
    "        \n",
    "            # get the image source\n",
    "            img = Image.open(file)\n",
    "\n",
    "            # get image size\n",
    "            img_size = img.size\n",
    "\n",
    "            return np.array(img, dtype = 'float32')[:, :, 0] / 255.0, img_size\n",
    "    \n",
    "        except IOError:\n",
    "            \n",
    "            print(transcription[\"image\"])    \n",
    "            \n",
    "    elif(img is not None):\n",
    "        return np.array(img, dtype = 'float32')[:, :, 0] / 255.0\n",
    "    \n",
    "    return None, None\n",
    "\n",
    "def per_sample(sample, mean):\n",
    "    # flatten the array\n",
    "    sample = sample.flatten()\n",
    "        \n",
    "    return ((sample - mean) ** 2).sum(), len(sample)\n",
    "\n",
    "def generate_data_properties(transcriptions):\n",
    "    # mean and std\n",
    "    mean, std = 0, 0\n",
    "    \n",
    "    # max width, height\n",
    "    width, height = 0, 0\n",
    "    \n",
    "    # calculating mean of images\n",
    "    for transcription in tqdm_notebook(transcriptions):\n",
    "        \n",
    "        img, img_size = generate_image_source(transcription = transcription)\n",
    "        \n",
    "        # remove if none\n",
    "        if(img is None):\n",
    "            transcriptions.remove(transcription)\n",
    "            \n",
    "            continue\n",
    "        \n",
    "        # acc the mean(_, _, 3)\n",
    "        mean += img.mean()\n",
    "                \n",
    "        # current width and height of the image\n",
    "        img_width, img_height = img_size\n",
    "        \n",
    "        # take the max\n",
    "        width, height = max(width, img_width), max(height, img_height)\n",
    "        \n",
    "    # our mean\n",
    "    mean = mean / len(transcriptions)\n",
    "    \n",
    "    # pixels count\n",
    "    count = 0\n",
    "    \n",
    "    for transcription in tqdm_notebook(transcriptions):\n",
    "            \n",
    "        sampl = per_sample(generate_image_source(transcription = transcription)[0], mean)\n",
    "        \n",
    "        std += sampl[0]\n",
    "        count += sampl[1]\n",
    "\n",
    "    return (mean, (std / count) ** (1 / 2)), (width, height)"
   ]
  },
  {
   "cell_type": "code",
   "execution_count": 0,
   "metadata": {
    "colab": {},
    "colab_type": "code",
    "id": "iRjw8Y8dtX0y"
   },
   "outputs": [],
   "source": [
    "# # data transforms and dimensions\n",
    "# transforms, dimensions = generate_data_properties(transcriptions[\"train\"])"
   ]
  },
  {
   "cell_type": "code",
   "execution_count": 0,
   "metadata": {
    "colab": {},
    "colab_type": "code",
    "id": "SePn-j_etMbV"
   },
   "outputs": [],
   "source": [
    "# pre-defined transforms\n",
    "transforms = (0.4639297261823658, 0.1681714378506824)\n",
    "\n",
    "# pre-defined dimensions\n",
    "dimensions = (1695, 161)"
   ]
  },
  {
   "cell_type": "code",
   "execution_count": 13,
   "metadata": {
    "colab": {
     "base_uri": "https://localhost:8080/",
     "height": 52
    },
    "colab_type": "code",
    "executionInfo": {
     "elapsed": 490106,
     "status": "ok",
     "timestamp": 1551480731329,
     "user": {
      "displayName": "Cristian Chivriga",
      "photoUrl": "",
      "userId": "12583023746426163942"
     },
     "user_tz": -60
    },
    "id": "ioqL5GontX02",
    "outputId": "5ae10e09-2696-4cfe-8d84-8ce689f65f12"
   },
   "outputs": [
    {
     "name": "stdout",
     "output_type": "stream",
     "text": [
      "Images: mean - 0.4639297261823658, std - 0.1681714378506824\n",
      "Width: 1695px, Height: 161px\n"
     ]
    }
   ],
   "source": [
    "# mean and standard deviation\n",
    "trans_mean, trans_std = transforms\n",
    "\n",
    "print(\"Images: mean - {}, std - {}\".format(trans_mean, trans_std))\n",
    "\n",
    "# maximum width and height\n",
    "width_max, height_max = dimensions\n",
    "\n",
    "print(\"Width: {}px, Height: {}px\".format(width_max, height_max))"
   ]
  },
  {
   "cell_type": "code",
   "execution_count": 0,
   "metadata": {
    "colab": {},
    "colab_type": "code",
    "id": "_YwdOJNJtX1E"
   },
   "outputs": [],
   "source": [
    "def resolve_text_dict(ch, t, dic = None):    \n",
    "    if(dic is not None and ch not in dic):\n",
    "        dic.add(ch)\n",
    "        \n",
    "    t.append(ch)\n",
    "\n",
    "# helper function to filter a text transcription\n",
    "def resolve_transcription_filter(transcription, dic = None):\n",
    "    # our new transcription\n",
    "    t = []\n",
    "    \n",
    "    for ch in transcription:\n",
    "        # ascii value\n",
    "        a = ord(ch)\n",
    "        \n",
    "        if(a >= 65 and a <= 90):\n",
    "            resolve_text_dict(a + 32, t, dic)\n",
    "        elif((a >= 97 and a <= 122) or a == 32 or a == 39):\n",
    "            resolve_text_dict(a, t, dic)\n",
    "            \n",
    "    return t\n",
    "\n",
    "# helper function to resolve transcriptions text to filtered unique integer sequences\n",
    "def resolve_transcriptions_text(transcriptions, character_max = None, character_to_int = None, int_to_character = None, character_set = None):\n",
    "    \n",
    "    seen_data = character_max is None and character_to_int is None\n",
    "    \n",
    "    if(seen_data):\n",
    "        # our set with unique characters\n",
    "        character_set = set()\n",
    "\n",
    "        # max characters\n",
    "        character_max = 0\n",
    "\n",
    "    for transcription in transcriptions:\n",
    "\n",
    "        # filtered transcription\n",
    "        transcription[\"targets_filtered\"] = resolve_transcription_filter(transcription[\"targets\"], character_set)\n",
    "\n",
    "        if(seen_data):\n",
    "            # get max sequence length for padding\n",
    "            character_max = max(character_max, len(transcription[\"targets\"]))\n",
    "\n",
    "    if(seen_data):\n",
    "        # mapping dict from normalized ints to ascii(character); +1 as the 0 is protected label (CTCLoss blank 0)\n",
    "        int_to_character = { index + 1 : ch for index, ch in enumerate(list(character_set)) }\n",
    "\n",
    "        # mapping from ascii(character) to normalized ints\n",
    "        character_to_int = { ch : index for index, ch in int_to_character.items() }\n",
    "    \n",
    "    for transcription in transcriptions:\n",
    "        # original size before padding\n",
    "        transcription[\"targets_size\"] = len(transcription[\"targets\"])\n",
    "        \n",
    "        # padding length to be appended\n",
    "        padding_len = character_max - transcription[\"targets_size\"]\n",
    "        \n",
    "        # ascii to normalized ints\n",
    "        transcription[\"targets_filtered\"] = [ character_to_int[ch] for ch in transcription[\"targets_filtered\"] ] + [-1] * padding_len\n",
    "        \n",
    "        \n",
    "    return character_to_int, int_to_character, character_max"
   ]
  },
  {
   "cell_type": "code",
   "execution_count": 0,
   "metadata": {
    "colab": {},
    "colab_type": "code",
    "id": "q_43dpXTtX1I"
   },
   "outputs": [],
   "source": [
    "character_to_int, int_to_character, character_max = resolve_transcriptions_text(transcriptions[\"train\"])\n",
    "\n",
    "_, _, character_max = resolve_transcriptions_text(transcriptions[\"valid\"], character_max, character_to_int)"
   ]
  },
  {
   "cell_type": "code",
   "execution_count": 0,
   "metadata": {
    "colab": {},
    "colab_type": "code",
    "id": "avMgFBeAZB4O"
   },
   "outputs": [],
   "source": [
    "# helper function to perform sample normalization and padding\n",
    "def resolve_image_pad(transcription, dimensions, transforms):\n",
    "    \n",
    "    # open the image\n",
    "    img = Image.open(transcription[\"image\"])\n",
    "    \n",
    "    # retrieving the original size\n",
    "    transcription[\"features_size\"] = img.size\n",
    "    \n",
    "    # data normalization\n",
    "    data = (np.array(img, dtype = 'float32')[:, :, 0] / 255.0  - transforms[0]) / transforms[1]\n",
    "    \n",
    "    # fill max shape with zeros\n",
    "    data_pad = np.zeros((dimensions[1], dimensions[0]), dtype = 'float32')\n",
    "    \n",
    "    # fill the relevant data\n",
    "    data_pad[:data.shape[0], :data.shape[1]] = data\n",
    "    \n",
    "    return data_pad"
   ]
  },
  {
   "cell_type": "markdown",
   "metadata": {
    "colab_type": "text",
    "id": "VhOoEKAntX1P"
   },
   "source": [
    "Generating the data loaders for training and validating the model"
   ]
  },
  {
   "cell_type": "code",
   "execution_count": 17,
   "metadata": {
    "colab": {
     "base_uri": "https://localhost:8080/",
     "height": 34
    },
    "colab_type": "code",
    "executionInfo": {
     "elapsed": 475243,
     "status": "ok",
     "timestamp": 1551480731342,
     "user": {
      "displayName": "Cristian Chivriga",
      "photoUrl": "",
      "userId": "12583023746426163942"
     },
     "user_tz": -60
    },
    "id": "D9MNYTDstX1X",
    "outputId": "97fb3bdd-09b7-4de5-80e1-a34185a593eb"
   },
   "outputs": [
    {
     "name": "stdout",
     "output_type": "stream",
     "text": [
      "cuda\n"
     ]
    }
   ],
   "source": [
    "device = torch.device(\"cuda\" if torch.cuda.is_available() else \"cpu\")\n",
    "\n",
    "print(device)"
   ]
  },
  {
   "cell_type": "code",
   "execution_count": 0,
   "metadata": {
    "colab": {},
    "colab_type": "code",
    "id": "tHL5Fa65oBUs"
   },
   "outputs": [],
   "source": [
    "class AudioTensorDataset(TensorDataset):\n",
    "    ''' Custom Dataset '''\n",
    "    \n",
    "    def __init__(self, transcriptions, dimensions, transforms):\n",
    "        ''' Initialization '''\n",
    "        \n",
    "        self.transcriptions = transcriptions\n",
    "        self.dimensions = dimensions\n",
    "        self.transforms = transforms\n",
    "\n",
    "    def __len__(self):\n",
    "        ''' Number of transcriptions '''\n",
    "        \n",
    "        return len(self.transcriptions)\n",
    "\n",
    "    def __getitem__(self, index):\n",
    "        ''' Generate a sample '''\n",
    "        \n",
    "        # current transcription\n",
    "        transcription = self.transcriptions[index]\n",
    "        \n",
    "        # select sample image and do the preprocessing steps\n",
    "        features = torch.FloatTensor(torch.from_numpy(resolve_image_pad(transcription, self.dimensions, self.transforms))).to(device)\n",
    "        \n",
    "        # take the width, while height is static\n",
    "        features_size = transcription[\"features_size\"][0]\n",
    "        \n",
    "        targets = transcription[\"targets_filtered\"]\n",
    "        \n",
    "        targets_size = transcription[\"targets_size\"]\n",
    "        \n",
    "        return features, torch.IntTensor(targets).to(device), torch.IntTensor([int(features_size)]).to(device), torch.IntTensor([targets_size]).to(device)"
   ]
  },
  {
   "cell_type": "code",
   "execution_count": 0,
   "metadata": {
    "colab": {},
    "colab_type": "code",
    "id": "Tx9GQTVKtX1Q"
   },
   "outputs": [],
   "source": [
    "# our batch size\n",
    "batch_size = 12\n",
    "\n",
    "# dimensions\n",
    "dimensions = [width_max, height_max]\n",
    "\n",
    "# transforms\n",
    "transforms = [trans_mean, trans_std]\n",
    "\n",
    "def generate_dataloader(transcriptions):\n",
    "        \n",
    "    # clipping size\n",
    "    clipping_size = (len(transcriptions) // batch_size) * batch_size\n",
    "    \n",
    "    # tensor dataset\n",
    "    tensor_dataset = AudioTensorDataset(transcriptions[:clipping_size], dimensions, transforms)\n",
    "    \n",
    "    return DataLoader(tensor_dataset, batch_size = batch_size, shuffle = True)"
   ]
  },
  {
   "cell_type": "code",
   "execution_count": 0,
   "metadata": {
    "colab": {},
    "colab_type": "code",
    "id": "KSyqiyWOtX1T"
   },
   "outputs": [],
   "source": [
    "train_loader = generate_dataloader(transcriptions[\"train\"])\n",
    "valid_loader = generate_dataloader(transcriptions[\"valid\"])"
   ]
  },
  {
   "cell_type": "markdown",
   "metadata": {
    "colab_type": "text",
    "id": "c26F7ZzvtX1W"
   },
   "source": [
    "Device where the training process will be done, either on cpu or gpu if cuda is available."
   ]
  },
  {
   "cell_type": "markdown",
   "metadata": {
    "colab_type": "text",
    "id": "evjS6d5ztX1c"
   },
   "source": [
    "# Building and training the classifier\n",
    "\n",
    "Building the model."
   ]
  },
  {
   "cell_type": "code",
   "execution_count": 0,
   "metadata": {
    "colab": {},
    "colab_type": "code",
    "id": "R6B_bCpHtX1e"
   },
   "outputs": [],
   "source": [
    "# Model to be built, trained and make predictions with\n",
    "class Model(nn.Module):\n",
    "    def __init__(self, output_size, num_layers = 5, hidden_size = 768, bidirectional = True):\n",
    "        super(Model, self).__init__()\n",
    "        ''' Init the layers to be used '''\n",
    "        \n",
    "        self.num_layers = num_layers\n",
    "        self.hidden_size = hidden_size\n",
    "        self.output_size = output_size\n",
    "        self.bidirectional = bidirectional\n",
    "        \n",
    "        self.sec1 = nn.Sequential(\n",
    "            # conv1 => max_width x 82\n",
    "            nn.Conv2d(1, 32, (41, 11), stride = (2, 1), padding = (20, 5)),\n",
    "            nn.BatchNorm2d(32),\n",
    "            nn.ReLU()\n",
    "        )\n",
    "        \n",
    "        self.sec2 = nn.Sequential(\n",
    "            # conv2 => max_width x 41\n",
    "            nn.Conv2d(32, 32, kernel_size = (21, 11), stride = (2, 1), padding = (10, 5)),\n",
    "            nn.BatchNorm2d(32),\n",
    "            nn.ReLU()\n",
    "        )\n",
    "        \n",
    "        # gru layer 32 x 41 => 1312, if bidirectional the forward back direction to be considered too\n",
    "        self.gru = nn.GRU(input_size = 1312, hidden_size = self.hidden_size, num_layers = self.num_layers, batch_first = True, bidirectional = bidirectional)\n",
    "        \n",
    "        # fully connected layer\n",
    "        self.fc1 = nn.Linear(self.hidden_size, self.output_size)\n",
    "        \n",
    "    def forward(self, x):\n",
    "        ''' Forward implementation '''\n",
    "        \n",
    "        # 1st layer\n",
    "        x = self.sec1(x)\n",
    "        \n",
    "        # 2nd layer\n",
    "        x = self.sec2(x)\n",
    "        \n",
    "        # BxCxHxW => BxWxHxC | B -> batch, C -> layers H & W -> image dimen\n",
    "        x = x.transpose(1, 3)\n",
    "        \n",
    "        # BxWxHxC => BxWxD | B -> batch, W -> width or time space, D -> 20 ms sample\n",
    "        x = x.contiguous().view(batch_size, -1, x.size(2) * x.size(3))\n",
    "        \n",
    "        # gru pass; first batch size \n",
    "        x, _ = self.gru(x)\n",
    "        \n",
    "        # if bidirectional then merge two directions\n",
    "        if(self.bidirectional):\n",
    "            \n",
    "            # forward and reversed are summed\n",
    "            x = x.view(x.size(0), x.size(1), 2, -1).sum(2)\n",
    "            \n",
    "        # pass through fully connected layer\n",
    "        x = self.fc1(x)\n",
    "        \n",
    "        # BxSxP => SxBxP | B -> batch, S -> sequence or time, P -> 20 ms prediction\n",
    "        x = x.transpose(0, 1).log_softmax(dim = 2)\n",
    "        \n",
    "        return x\n",
    "    \n",
    "    \n",
    "    def init_hidden(self):\n",
    "        ''' Initializes hidden state '''\n",
    "        \n",
    "        # get an instance of data with same type and structure\n",
    "        weight = next(self.parameters()).data\n",
    "        \n",
    "        # create a new tensor by copying and setting to zero\n",
    "        hidden = weight.new(self.num_layers, batch_size, self.hidden_size).zero_().to(device)\n",
    "\n",
    "        return hidden\n",
    "    \n",
    "    def init_optimizer(self, learning_rate = 0.0003, state_optimizer = None, scheduler = False):\n",
    "        ''' Defining hyperparameters '''\n",
    "\n",
    "        # loss function\n",
    "        self.criterion = nn.CTCLoss(reduction = \"sum\")\n",
    "\n",
    "        # optimizer\n",
    "        self.optimizer = optim.SGD(self.parameters(), lr = learning_rate, momentum = 0.75)\n",
    "        \n",
    "        # load state optimizer if it's about to resume training\n",
    "        if(state_optimizer is not None):\n",
    "            \n",
    "            # load state optimizer\n",
    "            self.optimizer.load_state_dict(state_optimizer)\n",
    "\n",
    "        # custom scheduler\n",
    "        self.scheduler = optim.lr_scheduler.MultiStepLR(self.optimizer, milestones = [10, 30, 60], gamma = 0.8) if scheduler else None\n",
    "        \n",
    "    \n",
    "    @classmethod\n",
    "    def load_model_from_dict(cls, checkpoint):\n",
    "        ''' Load a model '''\n",
    "        \n",
    "        # saved model\n",
    "        model = cls(\n",
    "            output_size = checkpoint['output_size'],\n",
    "            num_layers = checkpoint['num_layers'], \n",
    "            hidden_size = checkpoint['hidden_size'], \n",
    "            bidirectional = checkpoint['bidirectional']\n",
    "        )\n",
    "        \n",
    "        # move to corresponding available device\n",
    "        model = model.to(device)\n",
    "        \n",
    "        # restore the optimizer\n",
    "        model.init_optimizer(state_optimizer = checkpoint['state_optimizer'])\n",
    "\n",
    "        # loading the state(trained weights)\n",
    "        model.load_state_dict(checkpoint['state_dict'])\n",
    "        \n",
    "        return model\n",
    "    \n",
    "    def save_model_to_dict(self, checkpoint):\n",
    "        ''' Save a model to dict '''\n",
    "        \n",
    "        checkpoint['output_size'] = self.output_size\n",
    "        checkpoint['hidden_size'] = self.hidden_size\n",
    "        checkpoint['num_layers'] = self.num_layers\n",
    "        checkpoint['bidirectional'] = self.bidirectional\n",
    "        checkpoint['state_dict'] = self.state_dict()\n",
    "        checkpoint['state_optimizer'] = self.optimizer.state_dict()\n",
    "        \n",
    "# Network auxiliary class\n",
    "class Network:\n",
    "    def __init__(self, model, input_size, batch_size, trans_state, int_to_character, valid_loss_min = np.inf):\n",
    "        self.model = model\n",
    "        self.input_size = input_size\n",
    "        self.batch_size = batch_size\n",
    "        self.trans_state = trans_state\n",
    "        self.int_to_character = int_to_character\n",
    "        self.valid_loss_min = valid_loss_min\n",
    "        \n",
    "    @classmethod\n",
    "    def load_checkpoint(cls, filepath):\n",
    "        ''' Loads a checkpoint and rebuilds the network '''\n",
    "        \n",
    "        # loading checkpoint\n",
    "        checkpoint = torch.load(filepath, map_location = 'cpu')\n",
    "        \n",
    "        # load the model\n",
    "        model = Model.load_model_from_dict(checkpoint)\n",
    "        \n",
    "        # load the network\n",
    "        network = cls(\n",
    "            model, \n",
    "            checkpoint['input_size'],\n",
    "            checkpoint['batch_size'],\n",
    "            checkpoint['trans_state'],\n",
    "            checkpoint['int_to_character'],\n",
    "            checkpoint['valid_loss_min']\n",
    "        )\n",
    "\n",
    "        return network\n",
    "    \n",
    "    \n",
    "    def save_network_to_dict(self, filepath):\n",
    "        ''' Save a network to dict '''\n",
    "        \n",
    "        # save network related state\n",
    "        checkpoint = {\n",
    "            'input_size': self.input_size,\n",
    "            'batch_size': self.batch_size,\n",
    "            'trans_state' : self.trans_state,\n",
    "            'int_to_character' : self.int_to_character,\n",
    "            'valid_loss_min' : self.valid_loss_min\n",
    "        }\n",
    "        \n",
    "        # save network's model\n",
    "        self.model.save_model_to_dict(checkpoint)\n",
    "        \n",
    "        # save the checkpoint\n",
    "        torch.save(checkpoint, filepath)"
   ]
  },
  {
   "cell_type": "code",
   "execution_count": 22,
   "metadata": {
    "colab": {
     "base_uri": "https://localhost:8080/",
     "height": 34
    },
    "colab_type": "code",
    "executionInfo": {
     "elapsed": 2355,
     "status": "ok",
     "timestamp": 1551480783352,
     "user": {
      "displayName": "Cristian Chivriga",
      "photoUrl": "",
      "userId": "12583023746426163942"
     },
     "user_tz": -60
    },
    "id": "otQ43Un2tX1i",
    "outputId": "01c943ee-39e7-4f38-b16b-99e8275b531b"
   },
   "outputs": [
    {
     "name": "stdout",
     "output_type": "stream",
     "text": [
      "29\n"
     ]
    }
   ],
   "source": [
    "# vocabulary size, characters allowed and available\n",
    "vocabulary_size = len(character_to_int) + 1\n",
    "\n",
    "print(vocabulary_size)"
   ]
  },
  {
   "cell_type": "code",
   "execution_count": 0,
   "metadata": {
    "colab": {},
    "colab_type": "code",
    "id": "joUydY4KSSz3"
   },
   "outputs": [],
   "source": [
    "# # create new model\n",
    "# model = Model(vocabulary_size, num_layers = 4, hidden_size = 768, bidirectional = False)\n",
    "\n",
    "# # create a fresh new optimizer\n",
    "# model.init_optimizer()\n",
    "\n",
    "# # create new network\n",
    "# network = Network(\n",
    "#     model, \n",
    "#     [1, width_max, height_max], \n",
    "#     batch_size, \n",
    "#     {\n",
    "#         'trans_mean' : trans_mean,\n",
    "#         'trans_std' : trans_std\n",
    "#     },\n",
    "#     int_to_character\n",
    "# )\n",
    "\n",
    "# # move to corresponding available device\n",
    "# model = model.to(device)"
   ]
  },
  {
   "cell_type": "code",
   "execution_count": 0,
   "metadata": {
    "colab": {},
    "colab_type": "code",
    "id": "SdFzCeSPSd04"
   },
   "outputs": [],
   "source": [
    "# load saved network and resume training\n",
    "network = Network.load_checkpoint(model_dir + 'model_speech_recogniser.pt')"
   ]
  },
  {
   "cell_type": "markdown",
   "metadata": {
    "colab_type": "text",
    "id": "kWo5wMmwtX1x"
   },
   "source": [
    "### Training the network(feature extractors & classifier)"
   ]
  },
  {
   "cell_type": "code",
   "execution_count": 0,
   "metadata": {
    "colab": {},
    "colab_type": "code",
    "id": "J8zL9QaBtX1y"
   },
   "outputs": [],
   "source": [
    "def valid_model(network, epoch, train_acc_loss, counter):\n",
    "    \n",
    "    # the model to be validated\n",
    "    model = network.model\n",
    "        \n",
    "    # validation loss\n",
    "    valid_acc_loss = 0\n",
    "    \n",
    "    # evaluation mode\n",
    "    model.eval()\n",
    "\n",
    "    with torch.no_grad():\n",
    "\n",
    "        for features, targets, features_size, targets_size in valid_loader:\n",
    "\n",
    "            # pass forward done\n",
    "            outputs = model(features.unsqueeze(1))\n",
    "\n",
    "            # calculating loss\n",
    "            loss = model.criterion(outputs, targets, features_size.squeeze(1), targets_size.squeeze(1))\n",
    "\n",
    "            # acc validation loss\n",
    "            valid_acc_loss += loss.item() / batch_size\n",
    "\n",
    "    # average loss validation \n",
    "    valid_acc_loss = valid_acc_loss / len(valid_loader)\n",
    "\n",
    "    # print training / validation statistics \n",
    "    print('Current Epoch: {} \\t Step: {}\\tTraining Loss: {:.6f} \\tValidation Loss: {:.6f}'.format(\n",
    "        epoch + 1, counter, train_acc_loss, valid_acc_loss))\n",
    "    \n",
    "    # save training model to resume training\n",
    "    network.save_network_to_dict(model_dir + 'training_model_speech_recogniser.pt')\n",
    "\n",
    "    if(valid_acc_loss <= network.valid_loss_min):\n",
    "        print('Validation loss decreased ({:.6f} --> {:.6f}).  Saving model ...'.format(\n",
    "            network.valid_loss_min, valid_acc_loss))\n",
    "\n",
    "        network.valid_loss_min = valid_acc_loss\n",
    "\n",
    "        # save best model\n",
    "        network.save_network_to_dict(model_dir + 'model_speech_recogniser.pt')\n",
    "    \n",
    "\n",
    "def train_model(network, epochs = 15, max_norm = 450, show_every_step = len(train_loader)):\n",
    "    \n",
    "    # the model to be trained\n",
    "    model = network.model\n",
    "    \n",
    "    # train loss\n",
    "    train_acc_loss = 0\n",
    "            \n",
    "    for epoch in range(epochs):\n",
    "        \n",
    "        # training mode\n",
    "        model.train()\n",
    "            \n",
    "        # scheduler step taken\n",
    "        if(model.scheduler is not None):\n",
    "            model.scheduler.step()\n",
    "\n",
    "        for step, (features, targets, features_size, targets_size) in enumerate(train_loader):\n",
    "\n",
    "            # removing accumulated gradients\n",
    "            model.optimizer.zero_grad()\n",
    "\n",
    "            # pass forward done, by adding one more dimension to the tensor for color channel(grey)\n",
    "            outputs = model(features.unsqueeze(1))\n",
    "            \n",
    "            # calculating loss\n",
    "            loss = model.criterion(outputs, targets, features_size.squeeze(1), targets_size.squeeze(1))\n",
    "            \n",
    "            # normalizing the loss by batch size\n",
    "            loss = loss / batch_size\n",
    "\n",
    "            # calculating gradient\n",
    "            loss.backward()\n",
    "            \n",
    "            # clipping the gradients in case of gradient explosion\n",
    "            nn.utils.clip_grad_norm_(model.parameters(), max_norm)\n",
    "\n",
    "            # adjusting weights\n",
    "            model.optimizer.step()\n",
    "           \n",
    "            # updating the training loss\n",
    "            train_acc_loss += loss.item()\n",
    "           \n",
    "            # if step identical validate it\n",
    "            if((step + 1) % show_every_step == 0):\n",
    "                \n",
    "                # average loss training\n",
    "                train_acc_loss = train_acc_loss / show_every_step\n",
    "                \n",
    "                # performing validation\n",
    "                valid_model(network, epoch, train_acc_loss, step)\n",
    "                \n",
    "                # training mode\n",
    "                model.train()\n",
    "                \n",
    "                # reset training loss\n",
    "                train_acc_loss = 0"
   ]
  },
  {
   "cell_type": "markdown",
   "metadata": {
    "colab_type": "text",
    "id": "8W3x6kUQEk5c"
   },
   "source": [
    "Training model"
   ]
  },
  {
   "cell_type": "code",
   "execution_count": 0,
   "metadata": {
    "colab": {},
    "colab_type": "code",
    "id": "l6PRuurTEiEF"
   },
   "outputs": [],
   "source": [
    "# training model\n",
    "train_model(network, 1, show_every_step = 200)"
   ]
  },
  {
   "cell_type": "markdown",
   "metadata": {
    "colab_type": "text",
    "id": "VTgvPbztXtFU"
   },
   "source": [
    "### Inference for classification\n",
    "\n",
    "Tools used for inference of a trained network."
   ]
  },
  {
   "cell_type": "code",
   "execution_count": 0,
   "metadata": {
    "colab": {},
    "colab_type": "code",
    "id": "WooLe89xXqSf"
   },
   "outputs": [],
   "source": [
    "# helper function to remove any duplicate subsequent characters strings (e.g aabbbbcca -> abca)\n",
    "def remove_adjacent_duplicates(line):\n",
    "    \n",
    "    # our accumulator\n",
    "    acc = line[:1].tolist()\n",
    "    \n",
    "    for index in range(1, len(line)):\n",
    "        if(acc[-1] != line[index]):\n",
    "            acc.append(line[index])\n",
    "            \n",
    "    return acc\n",
    "\n",
    "\n",
    "# helper function\n",
    "def predict(network, data_loader, show_count = 3, wer = False):\n",
    "    \n",
    "    # our model\n",
    "    model = network.model\n",
    "    \n",
    "    # evaluation mode\n",
    "    model.eval()\n",
    "    \n",
    "    # word error rates\n",
    "    word_errors = np.zeros((len(data_loader), batch_size), dtype = \"float32\")\n",
    "    \n",
    "    for batch_index, (features, targets, features_size, targets_size) in enumerate(data_loader):\n",
    "\n",
    "        # pass forward done, by adding one more dimension to the tensor for color channel(grey one)\n",
    "        outputs = model(features.unsqueeze(1))\n",
    "\n",
    "        # SxBxA => BxSxA\n",
    "        outputs = outputs.cpu().transpose(0, 1)\n",
    "\n",
    "        # retrieving the most likely class for the whole sequence length\n",
    "        _, top_class = torch.exp(outputs).topk(1, dim = 2)\n",
    "\n",
    "        # squeeze unecessary dimension\n",
    "        classes = top_class.squeeze(2).cpu().numpy()\n",
    "        \n",
    "        # word error rates batch related\n",
    "        word_batch_errors = np.zeros(batch_size, dtype = \"float32\")\n",
    "\n",
    "        for index in range(batch_size):\n",
    "\n",
    "            # get the real sequence size\n",
    "            prediction_line = classes[index]\n",
    "\n",
    "            # filter the blanks\n",
    "            prediction_line = prediction_line[prediction_line != 0]\n",
    "\n",
    "            # remove duplicates\n",
    "            prediction_line = remove_adjacent_duplicates(prediction_line)\n",
    "\n",
    "            # convert to character based string\n",
    "            prediction_line = \"\".join([ chr(network.int_to_character[ch]) for ch in prediction_line ])\n",
    "\n",
    "            # get the target\n",
    "            target_line = targets[index]\n",
    "\n",
    "            # filter padding zeros\n",
    "            target_line = target_line[target_line != -1].tolist()\n",
    "\n",
    "            # convert to character based string\n",
    "            target_line = \"\".join([ chr(network.int_to_character[ch]) for ch in target_line ])\n",
    "\n",
    "            # calculate levenshtein distance and word error rate\n",
    "            word_batch_errors[index] = distance(prediction_line, target_line) / max(len(target_line), len(prediction_line)) * 100\n",
    "            \n",
    "            if(show_count > 0):\n",
    "                \n",
    "                show_count -= 1;\n",
    "                \n",
    "                # extra message for distance between sentences\n",
    "                message = \" with wer -> {:0.3f}%\".format(word_batch_errors[index]) if wer else \"\"\n",
    "\n",
    "                print(\"Current Transcription: {} {}\\n Output -> {}\\n Actual -> {}\\n\".format(\n",
    "                    index + 1,\n",
    "                    message,\n",
    "                    prediction_line,\n",
    "                    target_line\n",
    "                ))\n",
    "                \n",
    "        # assign batch errors\n",
    "        word_errors[batch_index] = word_batch_errors\n",
    "\n",
    "    print(\"\\n\\tMean word error rate - {:0.3f}%\".format(word_errors.mean()));"
   ]
  },
  {
   "cell_type": "markdown",
   "metadata": {
    "colab_type": "text",
    "id": "XTpvhKRN2gnQ"
   },
   "source": [
    "Predictions to be done"
   ]
  },
  {
   "cell_type": "code",
   "execution_count": 68,
   "metadata": {
    "colab": {
     "base_uri": "https://localhost:8080/",
     "height": 283
    },
    "colab_type": "code",
    "executionInfo": {
     "elapsed": 13334,
     "status": "ok",
     "timestamp": 1551483342254,
     "user": {
      "displayName": "Cristian Chivriga",
      "photoUrl": "",
      "userId": "12583023746426163942"
     },
     "user_tz": -60
    },
    "id": "sMk4cJpXDEpI",
    "outputId": "1aa644ca-eba0-4e4a-83a4-4a91ab14610b"
   },
   "outputs": [
    {
     "name": "stdout",
     "output_type": "stream",
     "text": [
      "Current Transcription: 1  with wer -> 17.273%\n",
      " Output -> al that i'ame duing is to use its luch caltonabilitsy as a help an the analocs of what acurs wen wa remember\n",
      " Actual -> all that i am doing is to use its logical tenability as a help in the analysis of what occurs when we remember\n",
      "\n",
      "Current Transcription: 2  with wer -> 14.662%\n",
      " Output -> fife hundred man more tho had ben levyt by the covenentors worprsuaded to inbrace the ral cos and widh this compined for se hastend to atck mord elco who lay t perth with an army of six thausand man a symbled apone the first neus of the irish in vasion\n",
      " Actual -> five hundred men more who had been levied by the covenanters were persuaded to embrace the royal cause and with this combined force he hastened to attack lord elcho who lay at perth with an army of six thousand men assembled upon the first news of the irish invasion\n",
      "\n",
      "Current Transcription: 3  with wer -> 10.465%\n",
      " Output -> an this case as in most others hat may be takenis sertain an advance is rather ve\n",
      " Actual -> in this case as in most others what may be taken as certain in advance is rather vague\n",
      "\n",
      "\n",
      "\tMean word error rate - 18.073%\n"
     ]
    }
   ],
   "source": [
    "predict(network, valid_loader, wer = True)"
   ]
  }
 ],
 "metadata": {
  "accelerator": "GPU",
  "colab": {
   "collapsed_sections": [],
   "name": "speech_recogniser.ipynb",
   "provenance": [],
   "version": "0.3.2"
  },
  "kernelspec": {
   "display_name": "Python 3",
   "language": "python",
   "name": "python3"
  },
  "language_info": {
   "codemirror_mode": {
    "name": "ipython",
    "version": 3
   },
   "file_extension": ".py",
   "mimetype": "text/x-python",
   "name": "python",
   "nbconvert_exporter": "python",
   "pygments_lexer": "ipython3",
   "version": "3.7.3"
  }
 },
 "nbformat": 4,
 "nbformat_minor": 1
}
