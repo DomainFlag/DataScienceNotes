{
 "cells": [
  {
   "cell_type": "markdown",
   "metadata": {},
   "source": [
    "### Importing necessary packages"
   ]
  },
  {
   "cell_type": "code",
   "execution_count": null,
   "metadata": {},
   "outputs": [],
   "source": [
    "# training and testing if made on google colaboratory\n",
    "from google.colab import drive\n",
    "\n",
    "drive.mount('/content/drive')\n",
    "\n",
    "!pip3 install torch torchvision"
   ]
  },
  {
   "cell_type": "code",
   "execution_count": null,
   "metadata": {},
   "outputs": [],
   "source": [
    "# uninstall the older version\n",
    "!pip uninstall -y Pillow\n",
    "\n",
    "# install the 5.3.0 version\n",
    "!pip install Pillow==5.3.0"
   ]
  },
  {
   "cell_type": "code",
   "execution_count": 1,
   "metadata": {},
   "outputs": [],
   "source": [
    "# necessary imports\n",
    "import os\n",
    "import torch\n",
    "import torch.optim as optim\n",
    "import numpy as np\n",
    "import matplotlib.pyplot as plt\n",
    "import torch.nn as nn\n",
    "import torch.nn.functional as F\n",
    "import cv2\n",
    "\n",
    "from collections import OrderedDict\n",
    "from pydub import AudioSegment\n",
    "from scipy import signal\n",
    "from PIL import Image\n",
    "from torchvision import transforms, models, datasets\n",
    "from torch.utils.data import Dataset, DataLoader, TensorDataset"
   ]
  },
  {
   "cell_type": "markdown",
   "metadata": {},
   "source": [
    "### Loading data"
   ]
  },
  {
   "cell_type": "code",
   "execution_count": null,
   "metadata": {},
   "outputs": [],
   "source": [
    "# root path if remote\n",
    "root_path = '/content/drive/My Drive/speech_recogniser/'"
   ]
  },
  {
   "cell_type": "code",
   "execution_count": 2,
   "metadata": {},
   "outputs": [],
   "source": [
    "# root path if local\n",
    "root_path = './'"
   ]
  },
  {
   "cell_type": "code",
   "execution_count": 3,
   "metadata": {},
   "outputs": [],
   "source": [
    "data_dir = root_path + 'data'\n",
    "\n",
    "train_dir = data_dir + '/train'\n",
    "test_dir = data_dir + '/test'\n",
    "valid_dir = data_dir + '/valid'"
   ]
  },
  {
   "cell_type": "code",
   "execution_count": 4,
   "metadata": {},
   "outputs": [],
   "source": [
    "# helper function to resolve a file transcription\n",
    "def resolve_transcription(files, transcription, relative_path = \"./\"):\n",
    "    # our transcriptions\n",
    "    transcriptions = []\n",
    "    \n",
    "    with open(relative_path + transcription, \"r\") as trans_file:\n",
    "        # looping through each line from transcription\n",
    "        for line in trans_file:\n",
    "            # perform a single split, first match - audio source, second match - targets(text)\n",
    "            match = line.split(\" \", 1)\n",
    "            \n",
    "            # expecting two elements\n",
    "            if(len(match) != 2):\n",
    "                pass\n",
    "                \n",
    "            # our audio source with full name\n",
    "            audio_source = match[0] + \".flac\"\n",
    "\n",
    "            # expecting the audio source to be present\n",
    "            if(audio_source not in files):\n",
    "                pass\n",
    "\n",
    "            # append to our transcriptions\n",
    "            transcriptions.append({\n",
    "                \"targets\" : match[1][:-1],\n",
    "                \"audio\" : relative_path + audio_source,\n",
    "                \"image\" : relative_path + match[0] + \".png\"\n",
    "            })\n",
    "                    \n",
    "    return transcriptions    \n",
    "\n",
    "# helper function to retrieve the paths\n",
    "def resolve_data(dir_path):\n",
    "    dirs = os.listdir(dir_path)\n",
    "\n",
    "    transcriptions = []\n",
    "    \n",
    "    for directory in dirs:\n",
    "        for sub_dir in os.listdir(dir_path + \"/\" + directory):\n",
    "            # current directory\n",
    "            curr_dir = dir_path + \"/\" + directory + \"/\" + sub_dir + \"/\"\n",
    "            \n",
    "            # files including images, audio files and text\n",
    "            files = os.listdir(curr_dir)\n",
    "            \n",
    "            # filtering files by text\n",
    "            files_text = [ file for file in files if file.endswith(\".txt\") ]\n",
    "            \n",
    "            # only one single transcription per directory source\n",
    "            if(len(files_text) == 1):\n",
    "                # our transcription to be resolved(link between the actual text and the audio source and image if exists)\n",
    "                transcription = files_text[0]\n",
    "                \n",
    "                # resolved transcription with audio source and spectrogram(image path)\n",
    "                resolved_transcription = resolve_transcription(files, transcription, relative_path = curr_dir)\n",
    "                \n",
    "                # concatenate with our raw list\n",
    "                transcriptions += resolved_transcription\n",
    "\n",
    "    return transcriptions"
   ]
  },
  {
   "cell_type": "code",
   "execution_count": 5,
   "metadata": {},
   "outputs": [],
   "source": [
    "# data types\n",
    "data_types = {\"train\" : train_dir, \"valid\" : valid_dir, \"test\" : test_dir}\n",
    "\n",
    "# transcriptions holder\n",
    "transcriptions = {data_type : resolve_data(data_dir) for data_type, data_dir in data_types.items()}"
   ]
  },
  {
   "cell_type": "code",
   "execution_count": 6,
   "metadata": {},
   "outputs": [],
   "source": [
    "# default sampling rate\n",
    "sampling_rate = 4096\n",
    "\n",
    "# helper function to resolve an audio source file to spectrogram\n",
    "def resolve_image_source(transcription, rewrite = False, interactive = False):\n",
    "    # image source\n",
    "    image_source = transcription[\"image\"]\n",
    "    \n",
    "    # rewrite turned off and image source exists then show only\n",
    "    image_save = not (not rewrite and os.path.isfile(image_source))\n",
    "    \n",
    "    # if not interactive and no rewriting is required then finish\n",
    "    if(not (image_save or interactive)):\n",
    "        return\n",
    "    \n",
    "    # audio source\n",
    "    audio_source = transcription[\"audio\"]\n",
    "    \n",
    "    if(audio_source.endswith((\".flac\", \".wav\"))):\n",
    "        raw = AudioSegment.from_file(audio_source)\n",
    "    else: \n",
    "        raw = AudioSegment.from_mp3(audio_source)\n",
    "\n",
    "    # single channel\n",
    "    raw = raw.set_channels(1)\n",
    "    \n",
    "    # downsampling the audio source\n",
    "    # raw = raw.set_frame_rate(sampling_rate)\n",
    "\n",
    "    # retrieving data\n",
    "    data = raw.get_array_of_samples()\n",
    "    \n",
    "    # data to numpy array\n",
    "    data = np.array(data)\n",
    "    \n",
    "    # sample frequencies, segment times(0 <-> song's length), frequencies domain(last axis - segment times)\n",
    "    f, t, Sxx = signal.spectrogram(data, raw.frame_rate, nfft = 320, nperseg = 320, noverlap = 0)\n",
    "    \n",
    "    # dimensions\n",
    "    row, col = Sxx.shape[0], Sxx.shape[1]\n",
    "\n",
    "    # normalizing dimensions\n",
    "    row, col = 1.0, (col / row)\n",
    "    \n",
    "    fig = plt.figure(figsize = (col, row), dpi = 161)\n",
    "    fig.subplots_adjust(0, 0, 1, 1)\n",
    "\n",
    "    plt.set_cmap(\"gray\")\n",
    "    \n",
    "    ax = fig.add_subplot(1, 1, 1, frameon = False)\n",
    "    ax.pcolormesh(t, f, 10 * np.log10(Sxx))\n",
    "    ax.axes.get_xaxis().set_visible(False)\n",
    "    ax.axes.get_yaxis().set_visible(False)\n",
    "\n",
    "    if(image_save):\n",
    "        plt.savefig(image_source)\n",
    "    \n",
    "    # don't show figure if not interactive\n",
    "    if(not interactive):\n",
    "        plt.close(fig)\n",
    "\n",
    "# helper function to clean the generated spectrogram\n",
    "def clean_image_source(transcription):\n",
    "    # image source\n",
    "    image_source = transcription[\"image\"]\n",
    "    \n",
    "    # check if image source exists\n",
    "    if(os.path.isfile(image_source) and not os.path.isdir(image_source)):\n",
    "        os.remove(image_source)\n",
    "        \n",
    "# helper function to resolve all audio sources file to spectrograms\n",
    "def resolve_transcription_images(transcriptions, rewrite = True, clean = False):\n",
    "    \n",
    "    # interactive mode turned off\n",
    "    plt.ioff()\n",
    "    \n",
    "    for transcription in transcriptions:\n",
    "        \n",
    "        # clean all\n",
    "        if(clean):\n",
    "            clean_image_source(transcription)\n",
    "            \n",
    "        resolve_image_source(transcription, rewrite, interactive = False)\n",
    "        \n",
    "    # interactive mode turned on for default behaviour\n",
    "    plt.ion()"
   ]
  },
  {
   "cell_type": "code",
   "execution_count": 7,
   "metadata": {},
   "outputs": [
    {
     "data": {
      "image/png": "[encoded data removed]",
      "text/plain": [
       "<Figure size 172x161 with 1 Axes>"
      ]
     },
     "metadata": {},
     "output_type": "display_data"
    }
   ],
   "source": [
    "resolve_image_source(transcriptions[\"valid\"][1], rewrite = False, interactive = True)"
   ]
  },
  {
   "cell_type": "markdown",
   "metadata": {},
   "source": [
    "Generating for each audio source and image representing the spectrogram related to the audio source"
   ]
  },
  {
   "cell_type": "code",
   "execution_count": 8,
   "metadata": {},
   "outputs": [],
   "source": [
    "for key, value in transcriptions.items():\n",
    "    resolve_transcription_images(transcriptions[key], rewrite = False)"
   ]
  },
  {
   "cell_type": "markdown",
   "metadata": {},
   "source": [
    "#### Finding the normalization parameters and adjusting the data accordingly"
   ]
  },
  {
   "cell_type": "markdown",
   "metadata": {},
   "source": [
    "Padding uneven images with black color"
   ]
  },
  {
   "cell_type": "code",
   "execution_count": 9,
   "metadata": {},
   "outputs": [],
   "source": [
    "# helper function to resolve the maximum dimensions in order to pad properly\n",
    "def resolve_dimensions(transcriptions):\n",
    "    # max width, height\n",
    "    width, height = 0, 0\n",
    "    \n",
    "    for transcription in transcriptions:\n",
    "        # open the image\n",
    "        img = Image.open(transcription[\"image\"])\n",
    "        \n",
    "        # current width and height of the image\n",
    "        img_width, img_height = img.size\n",
    "        \n",
    "        # take the max\n",
    "        width, height = max(width, img_width), max(height, img_height)\n",
    "        \n",
    "    return (width, height)"
   ]
  },
  {
   "cell_type": "code",
   "execution_count": 10,
   "metadata": {},
   "outputs": [
    {
     "name": "stdout",
     "output_type": "stream",
     "text": [
      "Width: 1747px, Height: 161px\n"
     ]
    }
   ],
   "source": [
    "width_max, height_max = resolve_dimensions(transcriptions[\"test\"])\n",
    "\n",
    "print(\"Width: {}px, Height: {}px\".format(width_max, height_max))"
   ]
  },
  {
   "cell_type": "code",
   "execution_count": 11,
   "metadata": {},
   "outputs": [],
   "source": [
    "# helper function to pad an image with black color the extended area\n",
    "def resolve_images_pad(transcriptions, dimensions):\n",
    "    \n",
    "    for transcription in transcriptions:\n",
    "        # open the image\n",
    "        img = Image.open(transcription[\"image\"])\n",
    "        \n",
    "        # retrieving the original size\n",
    "        img_size = img.size\n",
    "        \n",
    "        # create a new image with size padded\n",
    "        img_new = Image.new(\"RGB\", dimensions)\n",
    "        \n",
    "        # past the image from top-left, given they have same height\n",
    "        img_new.paste(img)\n",
    "\n",
    "        # override the image from original source\n",
    "        img_new.save(transcription[\"image\"])"
   ]
  },
  {
   "cell_type": "code",
   "execution_count": null,
   "metadata": {},
   "outputs": [],
   "source": [
    "for t in transcriptions.values():\n",
    "    resolve_images_pad(t, dimensions = (width_max, height_max))"
   ]
  },
  {
   "cell_type": "code",
   "execution_count": 12,
   "metadata": {},
   "outputs": [],
   "source": [
    "# helper function to generate image source, single channel image to be assumed\n",
    "def generate_image_source(transcription):\n",
    "    # get the image source\n",
    "    img = Image.open(transcription[\"image\"])\n",
    "\n",
    "    # sample image\n",
    "    return np.array(img, dtype = 'float32')[:, :, 0]\n",
    "\n",
    "def per_sample(sample, mean):\n",
    "    # flatten the array\n",
    "    sample = sample.flatten()\n",
    "        \n",
    "    return ((sample - mean) ** 2).sum(), len(sample)\n",
    "\n",
    "def generate_data_transforms(transcriptions):\n",
    "    # mean and std\n",
    "    mean, std = 0, 0\n",
    "    \n",
    "    # calculating mean of images\n",
    "    for transcription in transcriptions:\n",
    "        \n",
    "        # acc the mean(_, _, 3)\n",
    "        mean += generate_image_source(transcription).mean()\n",
    "        \n",
    "    # our mean\n",
    "    mean = mean / len(transcriptions)\n",
    "    \n",
    "    # pixels count\n",
    "    count = 0\n",
    "    \n",
    "    for transcription in transcriptions:\n",
    "        sampl = per_sample(generate_image_source(transcription), mean)\n",
    "        \n",
    "        std += sampl[0]\n",
    "        count += sampl[1]\n",
    "\n",
    "    return mean, (std / count) ** (1 / 2)"
   ]
  },
  {
   "cell_type": "code",
   "execution_count": 13,
   "metadata": {},
   "outputs": [],
   "source": [
    "# data transforms\n",
    "trans_mean, trans_std = generate_data_transforms(transcriptions[\"train\"])"
   ]
  },
  {
   "cell_type": "code",
   "execution_count": 14,
   "metadata": {},
   "outputs": [
    {
     "name": "stdout",
     "output_type": "stream",
     "text": [
      "Images: mean - 27.848273303682003, height - 57.71191479442374\n"
     ]
    }
   ],
   "source": [
    "print(\"Images: mean - {}, height - {}\".format(trans_mean, trans_std))"
   ]
  },
  {
   "cell_type": "code",
   "execution_count": 15,
   "metadata": {},
   "outputs": [],
   "source": [
    "def resolve_text_dict(ch, t, dic = None):    \n",
    "    if(dic is not None and ch not in dic):\n",
    "        dic.add(ch)\n",
    "        \n",
    "    t.append(ch)\n",
    "\n",
    "# helper function to filter a text transcription\n",
    "def resolve_transcription_filter(transcription, dic = None):\n",
    "    # our new transcription\n",
    "    t = []\n",
    "    \n",
    "    for ch in transcription:\n",
    "        # ascii value\n",
    "        a = ord(ch)\n",
    "        \n",
    "        if(a >= 65 and a <= 90):\n",
    "            resolve_text_dict(a + 32, t, dic)\n",
    "        elif((a >= 97 and a <= 122) or a == 32 or a == 39):\n",
    "            resolve_text_dict(a, t, dic)\n",
    "            \n",
    "    return t\n",
    "\n",
    "# helper function to resolve transcriptions text to filtered unique integer sequences\n",
    "def resolve_transcriptions_text(transcriptions, character_max = None, character_to_int = None, int_to_character = None, character_set = None):\n",
    "    \n",
    "    seen_data = character_max is None and character_to_int is None\n",
    "    \n",
    "    if(seen_data):\n",
    "        # our set with unique characters\n",
    "        character_set = set()\n",
    "\n",
    "        # max characters\n",
    "        character_max = 0\n",
    "\n",
    "    for transcription in transcriptions:\n",
    "\n",
    "        # filtered transcription\n",
    "        transcription[\"targets_f\"] = resolve_transcription_filter(transcription[\"targets\"], character_set)\n",
    "\n",
    "        if(seen_data):\n",
    "            # get max sequence length for padding\n",
    "            character_max = max(character_max, len(transcription[\"targets\"]))\n",
    "\n",
    "    if(seen_data):\n",
    "        # mapping dict from normalized ints to ascii(character); +1 as the 0 is label protected(CTCLoss)\n",
    "        int_to_character = { index + 1 : ch for index, ch in enumerate(list(character_set)) }\n",
    "\n",
    "        # mapping from ascii(character) to normalized ints\n",
    "        character_to_int = { ch : index for index, ch in int_to_character.items() }\n",
    "    \n",
    "    for transcription in transcriptions:\n",
    "        # original size before padding\n",
    "        transcription[\"targets_size\"] = len(transcription[\"targets\"])\n",
    "        \n",
    "        # padding length to be appended\n",
    "        padding_len = character_max - transcription[\"targets_size\"]\n",
    "        \n",
    "        # ascii to normalized ints\n",
    "        transcription[\"targets_f\"] = [ character_to_int[ch] for ch in transcription[\"targets_f\"] ] + [0] * padding_len\n",
    "        \n",
    "        \n",
    "    return character_to_int, int_to_character, character_max"
   ]
  },
  {
   "cell_type": "code",
   "execution_count": 16,
   "metadata": {},
   "outputs": [
    {
     "data": {
      "text/plain": [
       "({32: 1,\n",
       "  39: 2,\n",
       "  97: 3,\n",
       "  98: 4,\n",
       "  99: 5,\n",
       "  100: 6,\n",
       "  101: 7,\n",
       "  102: 8,\n",
       "  103: 9,\n",
       "  104: 10,\n",
       "  105: 11,\n",
       "  106: 12,\n",
       "  107: 13,\n",
       "  108: 14,\n",
       "  109: 15,\n",
       "  110: 16,\n",
       "  111: 17,\n",
       "  112: 18,\n",
       "  113: 19,\n",
       "  114: 20,\n",
       "  115: 21,\n",
       "  116: 22,\n",
       "  117: 23,\n",
       "  118: 24,\n",
       "  119: 25,\n",
       "  120: 26,\n",
       "  121: 27,\n",
       "  122: 28},\n",
       " None,\n",
       " 576)"
      ]
     },
     "execution_count": 16,
     "metadata": {},
     "output_type": "execute_result"
    }
   ],
   "source": [
    "character_to_int, int_to_character, character_max = resolve_transcriptions_text(transcriptions[\"train\"])\n",
    "\n",
    "resolve_transcriptions_text(transcriptions[\"valid\"], character_max, character_to_int)"
   ]
  },
  {
   "cell_type": "markdown",
   "metadata": {},
   "source": [
    "Generating the data loaders for training and validating the model"
   ]
  },
  {
   "cell_type": "code",
   "execution_count": 18,
   "metadata": {},
   "outputs": [],
   "source": [
    "# our batch size\n",
    "batch_size = 32\n",
    "\n",
    "def generate_dataloader(transcriptions):\n",
    "    \n",
    "    # our empty data\n",
    "    features, targets, targets_size = [], [], []\n",
    "    \n",
    "    # dataset used as input to data loader\n",
    "    for t in transcriptions:\n",
    "        # normalizing features\n",
    "        features.append((generate_image_source(t) - trans_mean) / trans_std)\n",
    "        \n",
    "        targets.append(t[\"targets_f\"])\n",
    "        \n",
    "        targets_size.append(t[\"targets_size\"])\n",
    "        \n",
    "    # to numpy\n",
    "    features, targets, targets_size = np.array(features), np.array(targets), np.array(targets_size)\n",
    "        \n",
    "    # tensor dataset\n",
    "    tensor_dataset = TensorDataset(torch.from_numpy(features),\\\n",
    "                                   torch.from_numpy(targets), torch.from_numpy(targets_size))\n",
    "    \n",
    "    return DataLoader(tensor_dataset, batch_size = batch_size, shuffle = True)"
   ]
  },
  {
   "cell_type": "code",
   "execution_count": 19,
   "metadata": {},
   "outputs": [],
   "source": [
    "train_loader = generate_dataloader(transcriptions[\"train\"])\n",
    "valid_loader = generate_dataloader(transcriptions[\"valid\"])"
   ]
  },
  {
   "cell_type": "markdown",
   "metadata": {},
   "source": [
    "Device where the training process will be done, either on cpu or gpu if cuda is available."
   ]
  },
  {
   "cell_type": "code",
   "execution_count": 20,
   "metadata": {},
   "outputs": [
    {
     "name": "stdout",
     "output_type": "stream",
     "text": [
      "cpu\n"
     ]
    }
   ],
   "source": [
    "device = torch.device(\"cuda\" if torch.cuda.is_available() else \"cpu\")\n",
    "\n",
    "print(device)"
   ]
  },
  {
   "cell_type": "code",
   "execution_count": 24,
   "metadata": {},
   "outputs": [],
   "source": [
    "class Network(nn.Module):\n",
    "    def __init__(self, output_size):\n",
    "        super(Network, self).__init__()\n",
    "        \n",
    "        # conv1 => 1743 x 161\n",
    "        self.conv1 = nn.Conv2d(1, 8, 7) \n",
    "        \n",
    "        # pool1 => 872 x 81\n",
    "        self.pool1 = nn.MaxPool2d(3, stride = 2, padding = 1)\n",
    "        \n",
    "        # conv2 => 870 x 80\n",
    "        self.conv2 = nn.Conv2d(8, 16, 5)\n",
    "        \n",
    "        # pool2 => 435 x 40\n",
    "        self.pool2 = nn.MaxPool2d(3, stride = 2, padding = 1)\n",
    "        \n",
    "        # conv3 => 435 x 40\n",
    "        self.conv3 = nn.Conv2d(16, 32, 3, padding = 1)\n",
    "        \n",
    "        # pool3 => 218 x 20\n",
    "        self.pool3 = nn.MaxPool2d(3, stride = 2, padding = 1)\n",
    "        \n",
    "        # conv4 => 218 x 20\n",
    "        self.conv4 = nn.Conv2d(32, 32, 3, padding = 1)\n",
    "        \n",
    "        # pool4 => 108 x 10\n",
    "        self.pool4 = nn.MaxPool2d(3, stride = 2, padding = 1)\n",
    "        \n",
    "        # conv5 => 108 x 10\n",
    "        self.conv5 = nn.Conv2d(32, 32, 3, padding = 1)\n",
    "        \n",
    "        # pool5 => 54 x 5 => 32 x 54 x 5 => 160 x 54\n",
    "        self.pool5 = nn.MaxPool2d(3, stride = 2, padding = 1)\n",
    "        \n",
    "        # gru layer\n",
    "        self.gru = nn.GRU(input_size = 160, hidden_size = 512, num_layers = 2, batch_first = True)\n",
    "        \n",
    "        # dropout layer\n",
    "        self.drp1 = nn.Dropout(0.25)\n",
    "        \n",
    "        # fully connected layer\n",
    "        self.fc1 = nn.Linear(512, output_size)\n",
    "        \n",
    "    def forward(self, hidden):\n",
    "        # 1st layer\n",
    "        x = self.conv1(x)\n",
    "        x = F.relu(x)\n",
    "        x = self.pool1(x)\n",
    "        \n",
    "        # 2nd layer\n",
    "        x = self.conv2(x)\n",
    "        x = F.relu(x)\n",
    "        x = self.pool2(x)\n",
    "        \n",
    "        # 3rd layer\n",
    "        x = self.conv3(x)\n",
    "        x = F.relu(x)\n",
    "        x = self.pool3(x)\n",
    "        \n",
    "        # 4th layer\n",
    "        x = self.conv4(x)\n",
    "        x = F.relu(x)\n",
    "        x = self.pool4(x)\n",
    "        \n",
    "        # 5th layer\n",
    "        x = self.conv5(x)\n",
    "        x = F.relu(x)\n",
    "        x = self.pool5(x)\n",
    "        \n",
    "        # gru pass; first batch size \n",
    "        x, hidden = self.gru(x.view(batch_size, 54, -1), hidden)\n",
    "        \n",
    "        # stacking the gru layers \n",
    "        x = x.contiguous().view(-1, self.hidden_dim)\n",
    "        \n",
    "        x = nn.ReLU(self.fc1(self.drp1(x)))\n",
    "        \n",
    "        return nn.LogSoftmax(x.view(batch_size, 51, -1), dim = 2), hidden\n",
    "    \n",
    "    \n",
    "model = Network(28)"
   ]
  }
 ],
 "metadata": {
  "kernelspec": {
   "display_name": "Python 3",
   "language": "python",
   "name": "python3"
  },
  "language_info": {
   "codemirror_mode": {
    "name": "ipython",
    "version": 3
   },
   "file_extension": ".py",
   "mimetype": "text/x-python",
   "name": "python",
   "nbconvert_exporter": "python",
   "pygments_lexer": "ipython3",
   "version": "3.6.5"
  }
 },
 "nbformat": 4,
 "nbformat_minor": 2
}
